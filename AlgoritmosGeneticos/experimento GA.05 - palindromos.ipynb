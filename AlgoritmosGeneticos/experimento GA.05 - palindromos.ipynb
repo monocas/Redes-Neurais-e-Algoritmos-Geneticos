{
 "cells": [
  {
   "cell_type": "markdown",
   "metadata": {},
   "source": [
    "## Novos palíndromos\n",
    "========================================\n",
    "\n"
   ]
  },
  {
   "cell_type": "markdown",
   "metadata": {},
   "source": [
    "## Introdução\n",
    "\n"
   ]
  },
  {
   "cell_type": "markdown",
   "metadata": {},
   "source": [
    "Um palíndromo é um número ou letra que permanece o mesmo, mesmo que o número e as letras sejam invertidos. EX: MOM, DAD e REFER. \n",
    "\n",
    "\n",
    "\n",
    "Neste notebook queremos identificar os palíndromos, mas com algumas delimitações, por exemplo: todos os palíndromos devem ter cinco letras e a combinação destes, não necessariamente tem que estar com uma palavra conhecida pela língua portugues (ou qualquer outra língua, pensando nisso, será que futuramente não poderiamos criar um idioma novo a partir desses códigos?"
   ]
  },
  {
   "cell_type": "markdown",
   "metadata": {},
   "source": [
    "## Objetivo\n",
    "\n"
   ]
  },
  {
   "cell_type": "markdown",
   "metadata": {},
   "source": [
    "Encontre pelo menos 10 palíndromos de 5 letras. Estes palíndromos devem ter pelo menos uma vogal. Não é necessário que eles formem palavras válidas em português ou qualquer outro idioma.\n"
   ]
  },
  {
   "cell_type": "markdown",
   "metadata": {},
   "source": [
    "## Importações\n",
    "\n"
   ]
  },
  {
   "cell_type": "markdown",
   "metadata": {},
   "source": [
    "Todos os comandos de `import` devem estar dentro desta seção.\n",
    "\n"
   ]
  },
  {
   "cell_type": "code",
   "execution_count": 1,
   "metadata": {},
   "outputs": [],
   "source": [
    "# Vamos importar as funções?\n",
    "from funcoes import populacao_inicial_senha\n",
    "from funcoes import funcao_objetivo_palindromo\n",
    "from funcoes import funcao_objetivo_pop_palindromo\n",
    "from funcoes import selecao_torneio_min\n",
    "from funcoes import cruzamento_ponto_simples as funcao_cruzamento\n",
    "from funcoes import mutacao_palindromo\n",
    "import random"
   ]
  },
  {
   "cell_type": "markdown",
   "metadata": {},
   "source": [
    "## Códigos e discussão\n",
    "\n"
   ]
  },
  {
   "cell_type": "markdown",
   "metadata": {},
   "source": [
    "<h4 style='text-align:justify'> GERAL </h4>\n",
    "<p style=\"text-align: justify\"> O problema abordado é a respeito da identificação de 10 palindromos de 5 letras com a restrição de obrigatoriamente ter uma vogal. É possível solucionar esse problema se utilizando dos Algoritmos Genéticos e também, da estratégia utilizada no experimento A.05 - descobrindo a senha. Serão utilizados os três operadores: Seleção, Cruzamento e Mutação! O que determina a resolução do problema é a utilização do fitness para identificar a aptidão do individuo para o nosso problema.  </p>"
   ]
  },
  {
   "cell_type": "markdown",
   "metadata": {},
   "source": [
    "<h4 style='text-align:justify'> PASSO 1 </h4>\n",
    "<p style=\"text-align: justify\"> De modo a realizar o algoritmo genético, determina-se as constantes gerais do problema como o tamanho da população, número de gerações, a probabilidade de cruzamento e mutação, além do número de genes(letras) que serão utilizados no torneio para compararmos quais das letras apresentam o menor fitness para a resolução do problema. Nessa seção, também delimitamos o tamanho dos palindromos e definimos o que são letras vogais e letras consoantes dentro das letras possíveis a serem utilizadas. </p>"
   ]
  },
  {
   "cell_type": "code",
   "execution_count": 2,
   "metadata": {},
   "outputs": [],
   "source": [
    "### CONSTANTES\n",
    "# relacionadas à busca\n",
    "TAMANHO_POP = 50\n",
    "NUM_GERACOES = 2000\n",
    "CHANCE_CRUZAMENTO = 0.5\n",
    "CHANCE_MUTACAO = 0.05\n",
    "NUM_COMBATENTES_NO_TORNEIO = 3\n",
    "\n",
    "\n",
    "# Palindromo\n",
    "LETRAS_POSSIVEIS = \"abcdefghijklmnopqrstuvwxyz\"\n",
    "LETRAS_VOGAIS = \"aeiou\"\n",
    "LETRAS_CONSOANTES = \"bcdfghjklmnpqrstvwxyz\"\n",
    "tamanho_palindromo = 5"
   ]
  },
  {
   "cell_type": "markdown",
   "metadata": {},
   "source": [
    "<h4 style='text-align:justify'> PASSO 2 </h4>\n",
    "<p style=\"text-align: justify\"> Em seguida, desenvolve-se as funções locais para geração da população inicial - formada a partir das constantes determinadas; a função objetivo da população - uma função que recebe um indivíduo e retorna o seu valor de aptidão;  a função de seleção - dado o valor de aptidão determina-se quais genes vão ir para as seguintes gerações; e a função de mutação - processo onde os genes dos indivíduos selecionados têm uma chance de alterar seu valor. </p>"
   ]
  },
  {
   "cell_type": "code",
   "execution_count": 3,
   "metadata": {},
   "outputs": [],
   "source": [
    "# funções locais\n",
    "def cria_populacao_inicial(tamanho, tamanho_palindromo):\n",
    "    return populacao_inicial_senha(tamanho, tamanho_palindromo, LETRAS_POSSIVEIS)\n",
    "\n",
    "def funcao_objetivo_pop(populacao):\n",
    "    return funcao_objetivo_pop_palindromo(populacao)\n",
    "\n",
    "def funcao_selecao(populacao, fitness):\n",
    "    return selecao_torneio_min(populacao, fitness, NUM_COMBATENTES_NO_TORNEIO)\n",
    "\n",
    "def funcao_mutacao(individuo):\n",
    "    return mutacao_palindromo(individuo, LETRAS_POSSIVEIS)"
   ]
  },
  {
   "cell_type": "markdown",
   "metadata": {},
   "source": [
    "<h4 style='text-align:justify'> PASSO 3 </h4>\n",
    "<p style=\"text-align: justify\"> Estabelecidas as constantes e funções, a primeira linha de código é responsável pela criação da população a partir das constantes estabelecidas, isto é, uma população com tamanho máximo de 50 individuos e com os seus genes limitados ao tamanho máximo do palindromo. Em seguida, o nosso código irá percorrer em loop pelo número total de gerações estabelecido inicialmente, de modo aos indivíduos que formaram a população troquem as informações dos seus genes segundo o cruzamento estabelecido, criando novos individuos que solucionem o problema. </p>\n",
    "<p style=\"text-align: justify\"> Todo o processo é avaliado pelo fitness, uma função que recebe um indivíduo e retorna o seu valor de aptidão. Esse valor de aptidão é obtido através da comparação entre o a palavra original e o possível palindromo, se elas forem iguais de trás para a frente (representado pelo código como uma ser o inverso da outra) temos um palíndromo, identificado se a palavra é um palíndromo condiciona-se o algoritmo a apresentar resposta tendo uma vogal neste palindromo. </p>"
   ]
  },
  {
   "cell_type": "code",
   "execution_count": null,
   "metadata": {},
   "outputs": [
    {
     "name": "stdout",
     "output_type": "stream",
     "text": [
      "[['g', 'z', 'e', 's', 'x'], ['w', 'p', 'g', 'y', 'h'], ['y', 'j', 'f', 'b', 'q'], ['i', 'i', 'r', 'h', 'h'], ['a', 'c', 'o', 'a', 'd'], ['l', 'j', 'f', 'j', 'x'], ['k', 'o', 'x', 'm', 'b'], ['o', 'e', 's', 'k', 'p'], ['e', 'r', 't', 'l', 'r'], ['e', 'f', 'n', 't', 'l'], ['w', 'y', 'l', 'b', 'f'], ['u', 'r', 'i', 'x', 'n'], ['j', 'c', 'e', 'n', 'l'], ['q', 'j', 'p', 'a', 'z'], ['z', 'q', 'g', 'r', 'm'], ['j', 'w', 'w', 'f', 'e'], ['o', 'a', 'z', 'k', 'x'], ['i', 'x', 'c', 'b', 'p'], ['r', 'l', 'p', 'q', 'q'], ['i', 'o', 'g', 'y', 't'], ['z', 'y', 'q', 't', 's'], ['o', 'c', 'y', 'o', 'v'], ['x', 'd', 'a', 'n', 'q'], ['m', 'l', 'z', 's', 'v'], ['d', 'c', 'm', 'l', 'h'], ['n', 'r', 'j', 'a', 'd'], ['f', 'r', 'm', 'u', 'r'], ['b', 'c', 'n', 'v', 'o'], ['h', 'u', 'o', 'h', 'q'], ['n', 'g', 'm', 'v', 't'], ['k', 'a', 's', 'p', 'd'], ['e', 'j', 'z', 'o', 'h'], ['o', 'y', 'z', 'a', 'f'], ['b', 'e', 'u', 't', 'k'], ['p', 't', 't', 'b', 'c'], ['w', 'f', 'q', 'k', 'h'], ['z', 'k', 'd', 'k', 'n'], ['c', 'x', 'g', 'q', 't'], ['t', 'r', 'i', 'n', 'o'], ['f', 'f', 'p', 'm', 'a'], ['a', 'a', 's', 'i', 'w'], ['o', 'm', 'p', 'g', 'o'], ['r', 'l', 'w', 'l', 'e'], ['l', 'c', 'p', 'x', 'i'], ['x', 'l', 'v', 'p', 'o'], ['c', 'q', 'j', 'q', 'a'], ['d', 'z', 'k', 't', 'l'], ['o', 'g', 'z', 't', 't'], ['l', 'x', 'g', 'r', 'd'], ['q', 'y', 'l', 'y', 'u']]\n"
     ]
    }
   ],
   "source": [
    "populacao = cria_populacao_inicial(TAMANHO_POP, tamanho_palindromo)\n",
    "print(populacao)\n",
    "\n",
    "melhor_fitness_ja_visto = float(\"inf\")  # é assim que escrevemos infinito em python\n",
    "\n",
    "palindromosmos = set()\n",
    "\n",
    "while len(palindromosmos) != 10:   \n",
    "    \n",
    "    # Seleção\n",
    "    fitness = funcao_objetivo_pop(populacao)\n",
    "    populacao = funcao_selecao(populacao, fitness)\n",
    "    \n",
    "    # Cruzamento\n",
    "    pais = populacao[0::2]\n",
    "    maes = populacao[1::2]\n",
    "    \n",
    "    contador = 0\n",
    "    \n",
    "    for pai, mae in zip(pais, maes):\n",
    "        if random.random() <= CHANCE_CRUZAMENTO:\n",
    "            filho1, filho2 = funcao_cruzamento(pai, mae)\n",
    "            populacao[contador] = filho1\n",
    "            populacao[contador + 1] = filho2\n",
    "        \n",
    "        contador = contador + 2   \n",
    "        \n",
    "    # Mutação\n",
    "    for n in range(len(populacao)):\n",
    "        if random.random() <= CHANCE_MUTACAO:\n",
    "            individuo = populacao[n]\n",
    "            populacao[n] = funcao_mutacao(individuo)            \n",
    "                    \n",
    " # melhor individuo já visto até agora\n",
    "    fitness = funcao_objetivo_pop(populacao)\n",
    "    menor_fitness = min(fitness)\n",
    "    if menor_fitness == 0:        \n",
    "        posicao = fitness.index(menor_fitness)\n",
    "        melhor_individuo_ja_visto = ''.join(populacao[posicao]) #puxa o elemento com index e unifica a string\n",
    "        palindromosmos.add(melhor_individuo_ja_visto) #adiciona ao conjunto\n",
    "\n",
    "print()\n",
    "print(f\"Os 10 palindromos selecinados pelo nosso algoritmo são os: {palindromosmos}\")"
   ]
  },
  {
   "cell_type": "markdown",
   "metadata": {},
   "source": [
    "## Conclusão\n",
    "\n"
   ]
  },
  {
   "cell_type": "markdown",
   "metadata": {},
   "source": [
    "<p style=\"text-align: justify\"> Esse experimento é uma situação similar ao apresentado na seção A.5, neste caso, discute-se a respeito de um problema de palíndromos (strings) que são palavras que podem ser escritas da mesma forma de modo comum ou de modo contrário, como por exemplo: MOM. Entretanto, nessa situação, temos uma situação limitante dos nossos palindromos: a identificação de pelo menos 10 palíndromos de 5 letras que devem ter pelo menos uma vogal. Logo afim, de modo a determinar essa situação temos que determinar o nosso fitness e a função objetivo que vão determinar o nosso problema, para isso, determinarmos o que são palindromos que são nada mais, nada menos do que o inverso do nosso individuo - isto é, a palavra é igual ao seu inverso; e cria-se uma lista de possíveis palindromos a partir do individuo. </p>\n",
    "<p style=\"text-align: justify\"> Em seguida, compara-se essas duas listas (individuo e possíveis palindromos) para analisar se as duas listas são iguais, se elas não são, há uma penalização. Em seguida, analisa-se se há vogal na lista de palindromos e caso há, não há a penalização. As palavras com menor penalização, apresentam o melhor fitness para resolver o nosso problema e consequentemente, são as que solucionam o nosso problema - determinar 10 palindromos com cinco letras com obrigatoriamente, no mínimo, uma vogal.   </p>\n"
   ]
  },
  {
   "cell_type": "markdown",
   "metadata": {},
   "source": [
    "## Playground\n",
    "\n"
   ]
  },
  {
   "cell_type": "markdown",
   "metadata": {},
   "source": [
    "Muito obrigada pela aula, Dani :)\n"
   ]
  }
 ],
 "metadata": {
  "kernelspec": {
   "display_name": "ilumpy",
   "language": "python",
   "name": "ilumpy"
  },
  "language_info": {
   "codemirror_mode": {
    "name": "ipython",
    "version": 3
   },
   "file_extension": ".py",
   "mimetype": "text/x-python",
   "name": "python",
   "nbconvert_exporter": "python",
   "pygments_lexer": "ipython3",
   "version": "3.9.7"
  },
  "org": null
 },
 "nbformat": 4,
 "nbformat_minor": 4
}
