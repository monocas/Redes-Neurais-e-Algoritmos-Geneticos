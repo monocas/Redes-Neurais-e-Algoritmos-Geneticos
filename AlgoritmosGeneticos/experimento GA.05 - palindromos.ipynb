{
 "cells": [
  {
   "cell_type": "markdown",
   "metadata": {},
   "source": [
    "## Novos palíndromos\n",
    "========================================\n",
    "\n"
   ]
  },
  {
   "cell_type": "markdown",
   "metadata": {},
   "source": [
    "## Introdução\n",
    "\n"
   ]
  },
  {
   "cell_type": "markdown",
   "metadata": {},
   "source": [
    "Um palíndromo é um número ou letra que permanece o mesmo, mesmo que o número e as letras sejam invertidos. EX: MOM, DAD e REFER. \n",
    "\n",
    "\n",
    "\n",
    "Neste notebook queremos identificar os palíndromos, mas com algumas delimitações, por exemplo: todos os palíndromos devem ter cinco letras e a combinação destes, não necessariamente tem que estar com uma palavra conhecida pela língua portugues (ou qualquer outra língua, pensando nisso, será que futuramente não poderiamos criar um idioma novo a partir desses códigos?"
   ]
  },
  {
   "cell_type": "markdown",
   "metadata": {},
   "source": [
    "## Objetivo\n",
    "\n"
   ]
  },
  {
   "cell_type": "markdown",
   "metadata": {},
   "source": [
    "Encontre pelo menos 10 palíndromos de 5 letras. Estes palíndromos devem ter pelo menos uma vogal. Não é necessário que eles formem palavras válidas em português ou qualquer outro idioma.\n"
   ]
  },
  {
   "cell_type": "markdown",
   "metadata": {},
   "source": [
    "## Importações\n",
    "\n"
   ]
  },
  {
   "cell_type": "markdown",
   "metadata": {},
   "source": [
    "Todos os comandos de `import` devem estar dentro desta seção.\n",
    "\n"
   ]
  },
  {
   "cell_type": "code",
   "execution_count": 1,
   "metadata": {},
   "outputs": [],
   "source": [
    "# Vamos importar as funções?\n",
    "from funcoes import populacao_inicial_senha\n",
    "from funcoes import funcao_objetivo_pop_palindromo\n",
    "from funcoes import selecao_torneio_min\n",
    "from funcoes import cruzamento_ponto_simples as funcao_cruzamento\n",
    "from funcoes import mutacao_palindromo\n",
    "import random"
   ]
  },
  {
   "cell_type": "markdown",
   "metadata": {},
   "source": [
    "## Códigos e discussão\n",
    "\n"
   ]
  },
  {
   "cell_type": "markdown",
   "metadata": {},
   "source": [
    "-   Use células de código para o código.\n",
    "\n",
    "-   Use células de texto para a discussão.\n",
    "\n",
    "-   A discussão não deve ser feita em comentários dentro das células de código. Toda discussão deve acontecer após o resultado sendo discutido foi apresentado. Exemplo: não discuta um gráfico antes de apresentá-lo.\n",
    "\n"
   ]
  },
  {
   "cell_type": "code",
   "execution_count": 2,
   "metadata": {},
   "outputs": [],
   "source": [
    "### CONSTANTES\n",
    "# relacionadas à busca\n",
    "TAMANHO_POP = 50\n",
    "NUM_GERACOES = 2000\n",
    "CHANCE_CRUZAMENTO = 0.5\n",
    "CHANCE_MUTACAO = 0.05\n",
    "NUM_COMBATENTES_NO_TORNEIO = 3\n",
    "\n",
    "\n",
    "# Palindromo\n",
    "LETRAS_POSSIVEIS = \"abcdefghijklmnopqrstuvwxyz\"\n",
    "LETRAS_VOGAIS = \"aeiou\"\n",
    "LETRAS_CONSOANTES = \"bcdfghjklmnpqrstvwxyz\"\n",
    "tamanho_palindromo = 5"
   ]
  },
  {
   "cell_type": "code",
   "execution_count": 3,
   "metadata": {},
   "outputs": [],
   "source": [
    "# funções locais\n",
    "def cria_populacao_inicial(tamanho, tamanho_palindromo):\n",
    "    return populacao_inicial_senha(tamanho, tamanho_palindromo, LETRAS_POSSIVEIS)\n",
    "\n",
    "def funcao_objetivo_pop(populacao):\n",
    "    return funcao_objetivo_pop_palindromo(populacao)\n",
    "\n",
    "def funcao_selecao(populacao, fitness):\n",
    "    return selecao_torneio_min(populacao, fitness, NUM_COMBATENTES_NO_TORNEIO)\n",
    "\n",
    "def funcao_mutacao(individuo):\n",
    "    return mutacao_palindromo(individuo, LETRAS_POSSIVEIS)"
   ]
  },
  {
   "cell_type": "code",
   "execution_count": 4,
   "metadata": {},
   "outputs": [
    {
     "name": "stdout",
     "output_type": "stream",
     "text": [
      "[['a', 'h', 'o', 'z', 'm'], ['w', 'v', 'g', 't', 'a'], ['i', 'r', 'j', 'h', 't'], ['a', 'p', 'v', 'v', 'i'], ['k', 'e', 's', 'a', 'd'], ['e', 'r', 'm', 'h', 'r'], ['z', 'i', 'f', 'o', 'a'], ['d', 'h', 'd', 'n', 'q'], ['d', 'o', 'm', 'c', 'k'], ['s', 'z', 'a', 'p', 'e'], ['f', 't', 'o', 'm', 'k'], ['x', 'd', 'z', 'd', 'p'], ['h', 'w', 'i', 'b', 'q'], ['h', 'v', 'f', 'e', 'f'], ['b', 'w', 'y', 's', 'c'], ['x', 'a', 'u', 'q', 'v'], ['v', 'n', 'v', 'q', 't'], ['u', 'h', 'm', 'n', 'a'], ['p', 'q', 'f', 'z', 'p'], ['a', 't', 'v', 'a', 'r'], ['u', 'w', 'u', 't', 'p'], ['k', 'u', 'l', 'c', 'k'], ['i', 'y', 'l', 's', 'l'], ['g', 'c', 't', 'w', 'i'], ['e', 'p', 'v', 'g', 'a'], ['v', 'h', 'n', 's', 'u'], ['l', 'l', 'c', 'j', 't'], ['i', 'd', 'm', 'o', 'l'], ['l', 'f', 'o', 'c', 'b'], ['r', 'u', 'k', 'p', 'y'], ['z', 'r', 'u', 'n', 'p'], ['s', 'z', 'n', 't', 'x'], ['d', 'w', 'a', 'j', 'i'], ['b', 't', 'a', 'x', 'y'], ['z', 'z', 'x', 'u', 'b'], ['c', 't', 'f', 'x', 'l'], ['w', 'x', 'o', 'k', 'r'], ['e', 't', 'h', 'p', 'e'], ['o', 'f', 'k', 'l', 'o'], ['r', 'n', 't', 'y', 'h'], ['a', 'n', 'p', 'p', 'l'], ['h', 's', 'l', 'p', 'p'], ['e', 's', 'z', 'm', 'x'], ['i', 'w', 'z', 'k', 'h'], ['x', 'b', 'i', 'r', 'n'], ['b', 'a', 'p', 'c', 'r'], ['f', 'o', 'i', 'o', 'b'], ['d', 'm', 'z', 'm', 'r'], ['p', 'j', 'g', 'g', 'j'], ['i', 'b', 'c', 'i', 'a']]\n",
      "\n",
      "['ophpo', 'opapo', 'opkpo', 'opepo', 'optpo', 'opnpo', 'opipo', 'opdpo', 'opbpo', 'opgpo']\n"
     ]
    }
   ],
   "source": [
    "populacao = cria_populacao_inicial(TAMANHO_POP, tamanho_palindromo)\n",
    "print(populacao)\n",
    "\n",
    "melhor_fitness_ja_visto = float(\"inf\")  # é assim que escrevemos infinito em python\n",
    "\n",
    "hall_da_fama = []\n",
    "\n",
    "while len(hall_da_fama) != 10:   \n",
    "    \n",
    "    # Seleção\n",
    "    fitness = funcao_objetivo_pop(populacao)\n",
    "    populacao = funcao_selecao(populacao, fitness)\n",
    "    \n",
    "    # Cruzamento\n",
    "    pais = populacao[0::2]\n",
    "    maes = populacao[1::2]\n",
    "    \n",
    "    contador = 0\n",
    "    \n",
    "    for pai, mae in zip(pais, maes):\n",
    "        if random.random() <= CHANCE_CRUZAMENTO:\n",
    "            filho1, filho2 = funcao_cruzamento(pai, mae)\n",
    "            populacao[contador] = filho1\n",
    "            populacao[contador + 1] = filho2\n",
    "        \n",
    "        contador = contador + 2   \n",
    "        \n",
    "    # Mutação\n",
    "    for n in range(len(populacao)):\n",
    "        if random.random() <= CHANCE_MUTACAO:\n",
    "            individuo = populacao[n]\n",
    "            populacao[n] = funcao_mutacao(individuo)            \n",
    "            \n",
    "    # melhor individuo já visto até agora\n",
    "    fitness = funcao_objetivo_pop(populacao)\n",
    "    for fit in fitness:\n",
    "        if fit == 0:\n",
    "            posicao = fitness.index(fit)\n",
    "            melhor_individuo_ja_visto = populacao[posicao]\n",
    "            if any(letra in LETRAS_VOGAIS for letra in melhor_individuo_ja_visto):\n",
    "                melhor_individuo_ja_visto = \"\".join(populacao[posicao])\n",
    "                if melhor_individuo_ja_visto not in hall_da_fama:\n",
    "                    hall_da_fama.append(melhor_individuo_ja_visto)\n",
    "\n",
    "print()\n",
    "print(hall_da_fama)"
   ]
  },
  {
   "cell_type": "markdown",
   "metadata": {},
   "source": [
    "## Conclusão\n",
    "\n"
   ]
  },
  {
   "cell_type": "markdown",
   "metadata": {},
   "source": [
    "<p style=\"text-align: justify\"> Esse experimento é uma situação similar ao apresentado na seção A.5, neste caso, discute-se a respeito de um problema de palíndromos (strings) que são palavras que podem ser escritas da mesma forma de modo comum ou de modo contrário, como por exemplo: MOM. Entretanto, nessa situação, temos uma situação limitante dos nossos palindromos: a identificação de pelo menos 10 palíndromos de 5 letras que devem ter pelo menos uma vogal. Logo afim, de determinar essa situação temos que determinar o nosso fitniss e a nossa função objetivo que vão determinar o nosso problema, para isso, soma-se as listas de palindromos e analisa os comportamentos dela, caso elas forem palindromos, temos que analisar as outras condições para observar se ela condiz com as nossas restrições estabelecidas inicialmente. </p>\n"
   ]
  },
  {
   "cell_type": "markdown",
   "metadata": {},
   "source": [
    "## Playground\n",
    "\n"
   ]
  },
  {
   "cell_type": "markdown",
   "metadata": {},
   "source": [
    "Todo código de teste que não faz parte do seu experimento deve vir aqui. Este código não será considerado na avaliação.\n",
    "\n"
   ]
  }
 ],
 "metadata": {
  "kernelspec": {
   "display_name": "ilumpy",
   "language": "python",
   "name": "ilumpy"
  },
  "language_info": {
   "codemirror_mode": {
    "name": "ipython",
    "version": 3
   },
   "file_extension": ".py",
   "mimetype": "text/x-python",
   "name": "python",
   "nbconvert_exporter": "python",
   "pygments_lexer": "ipython3",
   "version": "3.9.7"
  },
  "org": null
 },
 "nbformat": 4,
 "nbformat_minor": 4
}
