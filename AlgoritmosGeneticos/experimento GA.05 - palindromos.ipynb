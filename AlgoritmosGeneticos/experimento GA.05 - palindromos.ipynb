{
 "cells": [
  {
   "cell_type": "markdown",
   "metadata": {},
   "source": [
    "## Novos palíndromos\n",
    "========================================\n",
    "\n"
   ]
  },
  {
   "cell_type": "markdown",
   "metadata": {},
   "source": [
    "## Introdução\n",
    "\n"
   ]
  },
  {
   "cell_type": "markdown",
   "metadata": {},
   "source": [
    "Um palíndromo é um número ou letra que permanece o mesmo, mesmo que o número e as letras sejam invertidos. EX: MOM, DAD e REFER. \n",
    "\n",
    "\n",
    "\n",
    "Neste notebook queremos identificar os palíndromos, mas com algumas delimitações, por exemplo: todos os palíndromos devem ter cinco letras e a combinação destes, não necessariamente tem que estar com uma palavra conhecida pela língua portugues (ou qualquer outra língua, pensando nisso, será que futuramente não poderiamos criar um idioma novo a partir desses códigos?"
   ]
  },
  {
   "cell_type": "markdown",
   "metadata": {},
   "source": [
    "## Objetivo\n",
    "\n"
   ]
  },
  {
   "cell_type": "markdown",
   "metadata": {},
   "source": [
    "Encontre pelo menos 10 palíndromos de 5 letras. Estes palíndromos devem ter pelo menos uma vogal. Não é necessário que eles formem palavras válidas em português ou qualquer outro idioma.\n"
   ]
  },
  {
   "cell_type": "markdown",
   "metadata": {},
   "source": [
    "## Importações\n",
    "\n"
   ]
  },
  {
   "cell_type": "markdown",
   "metadata": {},
   "source": [
    "Todos os comandos de `import` devem estar dentro desta seção.\n",
    "\n"
   ]
  },
  {
   "cell_type": "code",
   "execution_count": 1,
   "metadata": {},
   "outputs": [],
   "source": [
    "# Vamos importar as funções?\n",
    "from funcoes import populacao_inicial_senha\n",
    "from funcoes import funcao_objetivo_pop_palindromo\n",
    "from funcoes import selecao_torneio_min\n",
    "from funcoes import cruzamento_ponto_simples as funcao_cruzamento\n",
    "from funcoes import mutacao_palindromo\n",
    "import random"
   ]
  },
  {
   "cell_type": "markdown",
   "metadata": {},
   "source": [
    "## Códigos e discussão\n",
    "\n"
   ]
  },
  {
   "cell_type": "markdown",
   "metadata": {},
   "source": [
    "<h4 style='text-align:justify'> GERAL </h4>\n",
    "<p style=\"text-align: justify\"> O problema abordado é a respeito da identificação de 10 palindromos de 5 letras com a restrição de obrigatoriamente ter uma vogal. É possível solucionar esse problema se utilizando dos Algoritmos Genéticos e também, da estratégia utilizada no experimento A.05 - descobrindo a senha. Serão utilizados os três operadores: Seleção, Cruzamento e Mutação! O que determina a resolução do problema é a utilização do fitness para identificar a aptidão do individuo para o nosso problema.  </p>"
   ]
  },
  {
   "cell_type": "markdown",
   "metadata": {},
   "source": [
    "<h4 style='text-align:justify'> PASSO 1 </h4>\n",
    "<p style=\"text-align: justify\"> De modo a realizar o algoritmo genético, determina-se as constantes gerais do problema como o tamanho da população, número de gerações, a probabilidade de cruzamento e mutação, além do número de genes(letras) que serão utilizados no torneio para compararmos quais das letras apresentam o menor fitness para a resolução do problema. Nessa seção, também delimitamos o tamanho dos palindromos e definimos o que são letras vogais e letras consoantes dentro das letras possíveis a serem utilizadas. </p>"
   ]
  },
  {
   "cell_type": "code",
   "execution_count": 2,
   "metadata": {},
   "outputs": [],
   "source": [
    "### CONSTANTES\n",
    "# relacionadas à busca\n",
    "TAMANHO_POP = 50\n",
    "NUM_GERACOES = 2000\n",
    "CHANCE_CRUZAMENTO = 0.5\n",
    "CHANCE_MUTACAO = 0.05\n",
    "NUM_COMBATENTES_NO_TORNEIO = 3\n",
    "\n",
    "\n",
    "# Palindromo\n",
    "LETRAS_POSSIVEIS = \"abcdefghijklmnopqrstuvwxyz\"\n",
    "LETRAS_VOGAIS = \"aeiou\"\n",
    "LETRAS_CONSOANTES = \"bcdfghjklmnpqrstvwxyz\"\n",
    "tamanho_palindromo = 5"
   ]
  },
  {
   "cell_type": "markdown",
   "metadata": {},
   "source": [
    "<h4 style='text-align:justify'> PASSO 2 </h4>\n",
    "<p style=\"text-align: justify\"> Em seguida, desenvolve-se as funções locais para geração da população inicial - formada a partir das constantes determinadas; a função objetivo da população - uma função que recebe um indivíduo e retorna o seu valor de aptidão;  a função de seleção - dado o valor de aptidão determina-se quais genes vão ir para as seguintes gerações; e a função de mutação - processo onde os genes dos indivíduos selecionados têm uma chance de alterar seu valor. </p>"
   ]
  },
  {
   "cell_type": "code",
   "execution_count": 3,
   "metadata": {},
   "outputs": [],
   "source": [
    "# funções locais\n",
    "def cria_populacao_inicial(tamanho, tamanho_palindromo):\n",
    "    return populacao_inicial_senha(tamanho, tamanho_palindromo, LETRAS_POSSIVEIS)\n",
    "\n",
    "def funcao_objetivo_pop(populacao):\n",
    "    return funcao_objetivo_pop_palindromo(populacao)\n",
    "\n",
    "def funcao_selecao(populacao, fitness):\n",
    "    return selecao_torneio_min(populacao, fitness, NUM_COMBATENTES_NO_TORNEIO)\n",
    "\n",
    "def funcao_mutacao(individuo):\n",
    "    return mutacao_palindromo(individuo, LETRAS_POSSIVEIS)"
   ]
  },
  {
   "cell_type": "markdown",
   "metadata": {},
   "source": [
    "<h4 style='text-align:justify'> PASSO 3 </h4>\n",
    "<p style=\"text-align: justify\"> Estabelecidas as constantes e funções, a primeira linha de código é responsável pela criação da população a partir das constantes estabelecidas, isto é, uma população com tamanho máximo de 50 individuos e com os seus genes limitados ao tamanho máximo do palindromo. Em seguida, o nosso código irá percorrer em loop pelo número total de gerações estabelecido inicialmente, de modo aos indivíduos que formaram a população troquem as informações dos seus genes segundo o cruzamento estabelecido, criando novos individuos que solucionem o problema. </p>\n",
    "<p style=\"text-align: justify\"> Todo o processo é avaliado pelo fitness, uma função que recebe um indivíduo e retorna o seu valor de aptidão. Esse valor de aptidão é obtido através da comparação entre o a palavra original e o possível palindromo, se elas forem iguais de trás para a frente (representado pelo código como uma ser o inverso da outra) temos um palíndromo, identificado se a palavra é um palíndromo condiciona-se o algoritmo a apresentar resposta tendo uma vogal neste palindromo. O problema é de minimização e se utiliza da função \"ord\" para transformar os caracteres em números e verificar a distância entre eles, caso a distância for zero, temos a nossa solução.  </p>"
   ]
  },
  {
   "cell_type": "code",
   "execution_count": 4,
   "metadata": {},
   "outputs": [
    {
     "name": "stdout",
     "output_type": "stream",
     "text": [
      "[['p', 'q', 'h', 'p', 'g'], ['n', 'f', 'k', 'g', 'a'], ['y', 'w', 'r', 'v', 'y'], ['n', 'a', 'k', 'q', 'u'], ['y', 'r', 'r', 'r', 'v'], ['x', 'n', 'b', 'q', 'm'], ['u', 'a', 'y', 'c', 'w'], ['g', 'v', 'c', 'g', 'j'], ['v', 'w', 'n', 'v', 'a'], ['i', 't', 'r', 'j', 'o'], ['c', 's', 'g', 'h', 'r'], ['a', 'd', 'k', 't', 'f'], ['d', 'e', 'r', 'w', 'a'], ['k', 'u', 'i', 'd', 'k'], ['t', 'p', 'h', 't', 'd'], ['m', 't', 'a', 'p', 'l'], ['g', 'c', 'c', 'f', 'm'], ['j', 'u', 'n', 'l', 'w'], ['c', 'd', 't', 's', 'm'], ['b', 'm', 'g', 'l', 'l'], ['c', 't', 'y', 'o', 'x'], ['m', 'v', 'c', 'c', 'n'], ['y', 'k', 'f', 'a', 'y'], ['c', 'v', 'c', 'h', 'h'], ['w', 'x', 'e', 'f', 'v'], ['t', 't', 'a', 'v', 'a'], ['k', 't', 'a', 'w', 'a'], ['a', 'h', 'c', 'p', 'i'], ['g', 'j', 'l', 'c', 'u'], ['q', 'm', 'w', 'u', 'l'], ['y', 'p', 'q', 'f', 'q'], ['w', 'w', 'h', 'g', 't'], ['p', 'y', 'a', 'o', 'u'], ['v', 'x', 'r', 'f', 'b'], ['h', 'p', 'g', 'e', 's'], ['w', 'p', 'e', 'n', 'j'], ['n', 's', 'b', 'd', 'o'], ['o', 'y', 'a', 'j', 'n'], ['y', 'v', 'v', 'd', 'd'], ['y', 'q', 'y', 'm', 'c'], ['m', 't', 'j', 'l', 'b'], ['o', 'l', 'j', 'n', 'n'], ['k', 'o', 'o', 'i', 'n'], ['r', 'n', 'l', 'n', 'b'], ['d', 'c', 'v', 'o', 't'], ['e', 'y', 'e', 'x', 'a'], ['c', 'w', 'w', 'w', 'z'], ['z', 'b', 'w', 'z', 'z'], ['v', 'm', 'm', 'z', 'g'], ['a', 'j', 'o', 'i', 'i']]\n",
      "\n",
      "['nloln', 'nluln', 'nleln', 'nlaln', 'nliln', 'naqan', 'njujn', 'ulzlu', 'ncicn', 'nuyun']\n"
     ]
    }
   ],
   "source": [
    "populacao = cria_populacao_inicial(TAMANHO_POP, tamanho_palindromo)\n",
    "print(populacao)\n",
    "\n",
    "melhor_fitness_ja_visto = float(\"inf\")  # é assim que escrevemos infinito em python\n",
    "\n",
    "hall_da_fama = []\n",
    "\n",
    "while len(hall_da_fama) != 10:   \n",
    "    \n",
    "    # Seleção\n",
    "    fitness = funcao_objetivo_pop(populacao)\n",
    "    populacao = funcao_selecao(populacao, fitness)\n",
    "    \n",
    "    # Cruzamento\n",
    "    pais = populacao[0::2]\n",
    "    maes = populacao[1::2]\n",
    "    \n",
    "    contador = 0\n",
    "    \n",
    "    for pai, mae in zip(pais, maes):\n",
    "        if random.random() <= CHANCE_CRUZAMENTO:\n",
    "            filho1, filho2 = funcao_cruzamento(pai, mae)\n",
    "            populacao[contador] = filho1\n",
    "            populacao[contador + 1] = filho2\n",
    "        \n",
    "        contador = contador + 2   \n",
    "        \n",
    "    # Mutação\n",
    "    for n in range(len(populacao)):\n",
    "        if random.random() <= CHANCE_MUTACAO:\n",
    "            individuo = populacao[n]\n",
    "            populacao[n] = funcao_mutacao(individuo)            \n",
    "            \n",
    "    # melhor individuo já visto até agora\n",
    "    fitness = funcao_objetivo_pop(populacao)\n",
    "    for fit in fitness:\n",
    "        if fit == 0:\n",
    "            posicao = fitness.index(fit)\n",
    "            melhor_individuo_ja_visto = populacao[posicao]\n",
    "            if any(letra in LETRAS_VOGAIS for letra in melhor_individuo_ja_visto):\n",
    "                melhor_individuo_ja_visto = \"\".join(populacao[posicao])\n",
    "                if melhor_individuo_ja_visto not in hall_da_fama:\n",
    "                    hall_da_fama.append(melhor_individuo_ja_visto)\n",
    "\n",
    "print()\n",
    "print(hall_da_fama)"
   ]
  },
  {
   "cell_type": "markdown",
   "metadata": {},
   "source": [
    "## Conclusão\n",
    "\n"
   ]
  },
  {
   "cell_type": "markdown",
   "metadata": {},
   "source": [
    "<p style=\"text-align: justify\"> Esse experimento é uma situação similar ao apresentado na seção A.5, neste caso, discute-se a respeito de um problema de palíndromos (strings) que são palavras que podem ser escritas da mesma forma de modo comum ou de modo contrário, como por exemplo: MOM. Entretanto, nessa situação, temos uma situação limitante dos nossos palindromos: a identificação de pelo menos 10 palíndromos de 5 letras que devem ter pelo menos uma vogal. Logo afim, de determinar essa situação temos que determinar o nosso fitness e a nossa função objetivo que vão determinar o nosso problema, para isso, soma-se as listas de palindromos e analisa os comportamentos dela, caso elas forem palindromos, temos que analisar as outras condições para observar se ela condiz com as nossas restrições estabelecidas inicialmente. </p>\n"
   ]
  },
  {
   "cell_type": "markdown",
   "metadata": {},
   "source": [
    "## Playground\n",
    "\n"
   ]
  },
  {
   "cell_type": "markdown",
   "metadata": {},
   "source": [
    "Muito obrigada pela aula, Dani :)\n"
   ]
  }
 ],
 "metadata": {
  "kernelspec": {
   "display_name": "ilumpy",
   "language": "python",
   "name": "ilumpy"
  },
  "language_info": {
   "codemirror_mode": {
    "name": "ipython",
    "version": 3
   },
   "file_extension": ".py",
   "mimetype": "text/x-python",
   "name": "python",
   "nbconvert_exporter": "python",
   "pygments_lexer": "ipython3",
   "version": "3.9.7"
  },
  "org": null
 },
 "nbformat": 4,
 "nbformat_minor": 4
}
