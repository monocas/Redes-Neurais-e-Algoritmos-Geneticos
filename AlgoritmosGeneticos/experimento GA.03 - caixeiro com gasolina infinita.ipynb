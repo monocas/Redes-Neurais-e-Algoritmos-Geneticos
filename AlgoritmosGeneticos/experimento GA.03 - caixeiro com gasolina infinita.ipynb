{
 "cells": [
  {
   "cell_type": "markdown",
   "id": "d30c3f9e-cbd6-4fff-8c51-c47efdbe056e",
   "metadata": {},
   "source": [
    "## CAIXEIRO COM A GASOLINA INFINITA (E SEM CONSCIÊNCIA AMBIENTAL!!)\n",
    "\n",
    "<hr>"
   ]
  },
  {
   "cell_type": "markdown",
   "id": "be2f98ea-0538-406c-9f20-97021d24646d",
   "metadata": {},
   "source": [
    "## Introdução\n",
    "Neste notebook, iremos resolver o problema do caixeiro viajante com a gasolina infinita, isto é, queremos encontrar o pior caminho possível para o caixeiro. O problema é do tipo NP-difícil.\n",
    "\n",
    "\n",
    "A fim de resolver o problema, considere um número $n\\geq 7$ de coordenadas $(x,y)$ de cidades e que o caixeiro tenha combustível infinito. Você pode gerar as coordenadas de forma aleatória ou simplesmente usar as coordenadas que desejar. O caixeiro só anda em linha reta e apenas entre duas cidades. O caixeiro começa e termina seu trajeto na mesma cidade e, fora a cidade inicial, ele não visita nenhuma outra cidade mais de uma vez."
   ]
  },
  {
   "cell_type": "markdown",
   "id": "e7187704-d897-4c27-a727-c98c37f68ff2",
   "metadata": {},
   "source": [
    "## Objetivo\n",
    "\n",
    "Encontre o caminho de *maior* distância no problema do caixeiro viajante e mostre ele de forma gráfica. Dica = Problema de Maximização."
   ]
  },
  {
   "cell_type": "markdown",
   "id": "e5cc01e1-433d-4318-b00d-3d7eaed41a57",
   "metadata": {},
   "source": [
    "## Importações"
   ]
  },
  {
   "cell_type": "markdown",
   "id": "35477f61-408d-4bd4-a49f-8d0329630bd1",
   "metadata": {},
   "source": [
    "Todos os comandos de `import` devem estar dentro desta seção."
   ]
  },
  {
   "cell_type": "code",
   "execution_count": 1,
   "id": "77f2bfd5-1069-445b-9e13-44ee07213f37",
   "metadata": {},
   "outputs": [],
   "source": [
    "from itertools import permutations\n",
    "from funcoes import cria_cidades\n",
    "from funcoes import selecao_torneio_max as funcao_selecao\n",
    "from funcoes import populacao_inicial_cv as cria_populacao_inicial\n",
    "from funcoes import funcao_objetivo_pop_cv\n",
    "from funcoes import funcao_objetivo_cv\n",
    "from funcoes import cruzamento_ordenado as funcao_cruzamento\n",
    "from funcoes import mutacao_de_troca as funcao_mutacao\n",
    "\n",
    "import random as rd\n",
    "import matplotlib.pyplot as plt"
   ]
  },
  {
   "cell_type": "markdown",
   "id": "06391106-f8eb-4980-9540-6292be2d7d77",
   "metadata": {},
   "source": [
    "### Vamos criar cidades?\n"
   ]
  },
  {
   "cell_type": "markdown",
   "id": "15212864-162d-4bca-b2f5-a7b02903e50f",
   "metadata": {},
   "source": [
    "<h4 style='text-align:justify'> PASSO 1 </h4>\n",
    "Criar uma função que gera as cidades para que possamos encontrar a maior distância entre as cidades. Mas que cidades são essas? Pois bem! Vamos cria-lás por agora!"
   ]
  },
  {
   "cell_type": "code",
   "execution_count": 2,
   "id": "71e6d66d-a6ac-473a-8d23-82b48aee4a3d",
   "metadata": {},
   "outputs": [],
   "source": [
    "def cria_cidades(n):\n",
    "    \"\"\"Cria um dicionário aleatório de cidades com suas posições (x,y).\n",
    "\n",
    "    Argumentos\n",
    "      n: inteiro positivo\n",
    "        Número de cidades que serão visitadas pelo caixeiro.\n",
    "\n",
    "    Retorno:\n",
    "      Dicionário contendo o nome das cidades como chaves e a coordenada no plano\n",
    "      cartesiano das cidades como valores.\n",
    "    \"\"\"\n",
    "\n",
    "    cidades = {}\n",
    "\n",
    "    for i in range(n):\n",
    "        cidades[f\"Cidade {i}\"] = (rd.random(), rd.random())\n",
    "\n",
    "    return cidades"
   ]
  },
  {
   "cell_type": "markdown",
   "id": "a553d2da-f8aa-428b-86a7-667f146444cc",
   "metadata": {},
   "source": [
    "## Código e Discussões"
   ]
  },
  {
   "cell_type": "markdown",
   "id": "6b641a3d-8423-4449-9885-25ae05cad040",
   "metadata": {},
   "source": [
    "<p style=\"text-align: justify\">Esse problema é similar ao experimento A.06 em que temos o problema do caixeiro viajante com minimização, contudo, neste caso, vamos resolver o problema só que em uma situação em que o caixeiro é inimigo do meio ambiente e companheiro do agronegócio, isto é, desperdiça demais a gasolina devido o seu gosto por maximização. </p>\n",
    "<h4 style='text-align:justify'> PASSO 2 </h4>\n",
    "<p style=\"text-align: justify\"> De modo a realizar o algoritmo genético, determina-se as constantes gerais do problema como o tamanho da população, número de gerações, número de combatentes do torneio e a probabilidade de cruzamento e mutação, além do número de cidades que serão utilizados no torneio para compararmos o maior caminho entre as cidades, o fitness será utilizado para essa métrica. </p>"
   ]
  },
  {
   "cell_type": "code",
   "execution_count": 3,
   "id": "4888d02b-484d-4b56-a162-d4651c610e24",
   "metadata": {},
   "outputs": [],
   "source": [
    "### CONSTANTES\n",
    "\n",
    "# relacionadas à busca\n",
    "TAMANHO_POP = 50\n",
    "CHANCE_CRUZAMENTO = 0.5\n",
    "CHANCE_MUTACAO = 0.05\n",
    "NUM_COMBATENTES_NO_TORNEIO = 3\n",
    "NUM_GERACOES = 1000\n",
    "\n",
    "# relacionadas ao problema a ser resolvido\n",
    "NUMERO_DE_CIDADES = 10\n",
    "CIDADES = cria_cidades(NUMERO_DE_CIDADES)"
   ]
  },
  {
   "cell_type": "markdown",
   "id": "55f21bb7-b832-453d-82cd-bb26e824961a",
   "metadata": {},
   "source": [
    "<h4 style='text-align:justify'> PASSO 3 </h4>\n",
    "<p style=\"text-align: justify\"> Nesse passo, há o desenvolvimento das funções locais para geração da população inicial - formada a partir das constantes determinadas; a função objetivo da população - uma função que recebe um indivíduo e retorna o seu valor de aptidão; e a função de seleção - dado o valor de aptidão determina-se quais genes vão ir para as seguintes gerações. </p>"
   ]
  },
  {
   "cell_type": "code",
   "execution_count": 4,
   "id": "f65853b5-d142-4c5e-9cb3-e570bacd7a21",
   "metadata": {},
   "outputs": [],
   "source": [
    "#Funções locais\n",
    "\n",
    "def funcao_objetivo_pop(populacao):\n",
    "    return funcao_objetivo_pop_cv(populacao, CIDADES)\n",
    "\n",
    "def funcao_objetivo_individuo(individuo):\n",
    "    return funcao_objetivo_cv(individuo, CIDADES)"
   ]
  },
  {
   "cell_type": "markdown",
   "id": "cb728b20-d965-40a1-90b0-9fe4300eeec8",
   "metadata": {},
   "source": [
    "<h4 style='text-align:justify'> PASSO 4 </h4>\n",
    "<p style=\"text-align: justify\"> Estabelecidas as constantes e funções, a primeira linha de código é responsável pela criação da população a partir das constantes estabelecidas. Em seguida, o nosso código irá percorrer em loop pelo número total de gerações estabelecido inicialmente, de modo aos indivíduos que formaram a população troquem as informações dos seus genes segundo o cruzamento estabelecido, criando novos individuos que solucionem o problema. </p>\n",
    "<p style=\"text-align: justify\"> Todo o processo é avaliado pelo fitness, uma função que recebe um indivíduo e retorna o seu valor de aptidão. Esse valor de aptidão é obtido através da distância percorrida pelo caixeiro seguindo o caminho contido no individuo.  </p>"
   ]
  },
  {
   "cell_type": "code",
   "execution_count": 5,
   "id": "8d5470b6-5377-4472-b461-59367ddea47f",
   "metadata": {},
   "outputs": [],
   "source": [
    "# Busca por algoritmo genético\n",
    "\n",
    "populacao = cria_populacao_inicial(TAMANHO_POP, CIDADES)\n",
    "\n",
    "melhor_fitness_ja_visto = -float(\"inf\")  # é assim que escrevemos infinito em python\n",
    "\n",
    "for n in range(NUM_GERACOES):\n",
    "    \n",
    "    # Seleção\n",
    "    fitness = funcao_objetivo_pop(populacao)\n",
    "    populacao = funcao_selecao(populacao, fitness)\n",
    "    \n",
    "    # Cruzamento\n",
    "    pais = populacao[0::2]\n",
    "    maes = populacao[1::2]\n",
    "    \n",
    "    contador = 0\n",
    "    \n",
    "    for pai, mae in zip(pais, maes):\n",
    "        if rd.random() <= CHANCE_CRUZAMENTO:\n",
    "            filho1, filho2 = funcao_cruzamento(pai, mae)\n",
    "            populacao[contador] = filho1\n",
    "            populacao[contador + 1] = filho2\n",
    "        \n",
    "        contador = contador + 2   \n",
    "        \n",
    "    # Mutação\n",
    "    for n in range(len(populacao)):\n",
    "        if rd.random() <= CHANCE_MUTACAO:\n",
    "            individuo = populacao[n]\n",
    "            populacao[n] = funcao_mutacao(individuo)            \n",
    "            \n",
    "    # melhor individuo já visto até agora\n",
    "    fitness = funcao_objetivo_pop(populacao)\n",
    "    maior_fitness = max(fitness)\n",
    "    if maior_fitness > melhor_fitness_ja_visto:        \n",
    "        posicao = fitness.index(maior_fitness)\n",
    "        melhor_individuo_ja_visto = populacao[posicao]\n",
    "        melhor_fitness_ja_visto = maior_fitness "
   ]
  },
  {
   "cell_type": "code",
   "execution_count": 6,
   "id": "d862196e-3362-4863-b7d5-3e52ed3f3e13",
   "metadata": {},
   "outputs": [
    {
     "name": "stdout",
     "output_type": "stream",
     "text": [
      "\n",
      "Melhor individuo obtido por algoritmos genéticos:\n",
      "['Cidade 7', 'Cidade 6', 'Cidade 0', 'Cidade 3', 'Cidade 2', 'Cidade 5', 'Cidade 8', 'Cidade 4', 'Cidade 1', 'Cidade 9'] com distância: 9.217662817753206\n"
     ]
    }
   ],
   "source": [
    "#Print dos resultados\n",
    "print()\n",
    "print(\"Melhor individuo obtido por algoritmos genéticos:\")\n",
    "print(melhor_individuo_ja_visto, \"com distância:\", melhor_fitness_ja_visto)"
   ]
  },
  {
   "cell_type": "markdown",
   "id": "594d72a5-01ef-4815-8759-fb1fb48e6552",
   "metadata": {},
   "source": [
    "### Vamos tentar permutar?\n",
    "<h4 style='text-align:justify'> PASSO 5 </h4>\n",
    "<p style=\"text-align: justify\"> Este problema é de NP-dificíl. Logo, de modo a confirmar e comparar se o resultado obtido anteriormente é o melhor resultado, podemos utilizar do mecanismo de busca exaustiva para observarmos todas as permutações do conjunto dos genes, e comparar se ele é similar ou idêntico ao caminho encontrado pelo algoritmo genético. </p>\n"
   ]
  },
  {
   "cell_type": "code",
   "execution_count": 7,
   "id": "0cc2acc4-fc68-4189-a134-55dac9fcff04",
   "metadata": {},
   "outputs": [],
   "source": [
    "# Testando todas as permutações possíveis\n",
    "\n",
    "melhor_fitness_ever = -float(\"inf\")\n",
    "\n",
    "for caminho in permutations(list(CIDADES.keys())):\n",
    "    distancia = funcao_objetivo_individuo(caminho)\n",
    "    if distancia > melhor_fitness_ever:\n",
    "        melhor_fitness_ever = distancia\n",
    "        melhor_resposta_ever = caminho\n",
    "        "
   ]
  },
  {
   "cell_type": "markdown",
   "id": "20f93eea-29a5-4690-a7aa-5c8d2b11f987",
   "metadata": {},
   "source": [
    "### Comparação entre os resultados\n"
   ]
  },
  {
   "cell_type": "code",
   "execution_count": 8,
   "id": "e802553b-bc8b-4c47-a3e4-cf7347960e73",
   "metadata": {},
   "outputs": [
    {
     "name": "stdout",
     "output_type": "stream",
     "text": [
      "\n",
      "Melhor individuo obtido por algoritmos genéticos:\n",
      "['Cidade 7', 'Cidade 6', 'Cidade 0', 'Cidade 3', 'Cidade 2', 'Cidade 5', 'Cidade 8', 'Cidade 4', 'Cidade 1', 'Cidade 9'] com distância: 9.217662817753206\n",
      "\n",
      "Melhor individuo obtido por busca exaustiva:\n",
      "('Cidade 0', 'Cidade 3', 'Cidade 7', 'Cidade 8', 'Cidade 5', 'Cidade 4', 'Cidade 1', 'Cidade 9', 'Cidade 2', 'Cidade 6') com distância: 9.217662817753206\n"
     ]
    }
   ],
   "source": [
    "# Checando os resultados\n",
    "print()\n",
    "print(\"Melhor individuo obtido por algoritmos genéticos:\")\n",
    "print(melhor_individuo_ja_visto, \"com distância:\", melhor_fitness_ja_visto)\n",
    "\n",
    "print()\n",
    "print(\"Melhor individuo obtido por busca exaustiva:\")\n",
    "print(melhor_resposta_ever, \"com distância:\", melhor_fitness_ever)"
   ]
  },
  {
   "cell_type": "markdown",
   "id": "024bd94b-2eff-4558-9a79-87d60ded7b29",
   "metadata": {},
   "source": [
    "### Bora graficar??"
   ]
  },
  {
   "cell_type": "code",
   "execution_count": 9,
   "id": "2dcf8e77-d382-4f17-9400-a853373f664f",
   "metadata": {},
   "outputs": [
    {
     "name": "stdout",
     "output_type": "stream",
     "text": [
      "[(0.12794531938504805, 0.0025253950279664483), (0.8274722702197465, 0.660162994512924), (0.15688572446957738, 0.20314213235737133), (0.9909586171227622, 0.8928375489828176), (0.04885704241225375, 0.019361389112374727), (0.9039497548359201, 0.3222315013905015), (0.4434617814984574, 0.7035999213647989), (0.15127507823887543, 0.906795064157278), (0.2632302818406622, 0.14228434971823245), (0.8002329157520183, 0.8334728010949798)]\n"
     ]
    }
   ],
   "source": [
    "# Percorrer as opções \n",
    "grafinho = [] \n",
    "\n",
    "for i in melhor_individuo_ja_visto:\n",
    "    grafinho.append(CIDADES[str(i)])\n",
    "print(grafinho)"
   ]
  },
  {
   "cell_type": "code",
   "execution_count": 10,
   "id": "afe65743-f8c0-41d4-9e07-b66f1809be61",
   "metadata": {},
   "outputs": [
    {
     "data": {
      "image/png": "[encoded data removed]",
      "text/plain": [
       "<Figure size 432x288 with 1 Axes>"
      ]
     },
     "metadata": {
      "needs_background": "light"
     },
     "output_type": "display_data"
    }
   ],
   "source": [
    "# Plotar no gráfico os resultados obtidos anteriormente \n",
    "x = [ponto[0] for ponto in grafinho]\n",
    "y = [ponto[1] for ponto in grafinho]\n",
    "\n",
    "for n, nome in enumerate(melhor_individuo_ja_visto):\n",
    "    plt.annotate(nome, (x[n], y[n]), textcoords = \"offset points\", xytext=(5, -10), ha='center', color = 'fuchsia')\n",
    "    \n",
    "#Plotando os pontos\n",
    "\n",
    "plt.plot(x,y, 'o')\n",
    "\n",
    "#liga os pontos com segmentos de reta\n",
    "\n",
    "for e in range(len(grafinho)-1):\n",
    "    plt.plot([grafinho[e][0], grafinho[e+1][0]], [grafinho[e][1], grafinho[e+1][1]], color = 'lightseagreen')\n",
    "    \n",
    "#Dando nome aos eixos\n",
    "\n",
    "plt.xlabel('Coordenada x')\n",
    "plt.ylabel('Coordenada y')\n",
    "plt.title('Trajetória da viagem safada (e sem responsabilidade social) do caixeiro ')\n",
    "\n",
    "plt.show()"
   ]
  },
  {
   "cell_type": "markdown",
   "id": "1a5ab2ca-81b7-466c-a802-b3d485554a93",
   "metadata": {},
   "source": [
    "## Conclusão\n",
    "<p style=\"text-align: justify\"> O problema a ser resolvido consiste na descoberta da maior distância possível para o caixeiro viajante entre $n$ pontos no plano cartesiano (ou seja, $n$ pontos com coordenadas $(x,y)$). A rota pode se iniciar em qualquer um dos pontos disponíveis e deve terminar no ponto inicial, visitando todos os demais pontos apenas uma vez. É uma situação extremamente semelhante ao que ocorrer no experimento A0.6, com exceção de que dessa vez, o nosso caixeiro viajante é um personagem sem consciência social e amigo do agronegócio já que ele percorre de cidade a cidade a fim de vender os seus produtos sem se preocupar em economizar a gasolina! </p>\n",
    "<p style=\"text-align: justify\">  Este notebook nos permite duas análises importantes: a versatilidade dos algoritímos genéticos com problemas de maximização e também o uso de limitação para cumprir as exigências impostas, isto é, o viajante não pode passar mais de uma vez pela mesma cidade e ele precisava retornar para a cidade inicial. Essas características atribuem o exercício como NP dificíl, assim, deve-se determinar todas as situações possíveis para se conseguir determinar qual é de fato a melhor solução, isto é, o maior caminho a ser percorrido pelo caixeiro entre as cidades </p>\n",
    "<p style=\"text-align: justify\"> A estratégia utilizada para a resolução do desafio é a construção de funções, em especial, funções de cálculo de distância entre as cidades, a de mutação, cruzamento  e uma função de objetivo que vai solucionar o nosso problema. A primeira função se baseou na fórmula de cálculo euclidiano de dois pontos referentes a um ponto x e y, por sua vez, a função de cruzamento é de caráter de cruzamento ordenado. E por fim, desenvolveu-se a função objetivo que consistia de um loop que calculava as distâncias obtidas nos diferentes caminhos possíveis, retornando a maior distância possível. </p>"
   ]
  },
  {
   "cell_type": "markdown",
   "id": "cfc7b48d-3a38-4b4c-99bc-ceebeab160a3",
   "metadata": {},
   "source": [
    "## Playground\n",
    "\n"
   ]
  },
  {
   "cell_type": "markdown",
   "id": "378ff59d-b0cf-4f4e-b662-c79e7942116f",
   "metadata": {},
   "source": [
    "Muito obrigada pela aula, Dani :)"
   ]
  }
 ],
 "metadata": {
  "kernelspec": {
   "display_name": "ilumpy",
   "language": "python",
   "name": "ilumpy"
  },
  "language_info": {
   "codemirror_mode": {
    "name": "ipython",
    "version": 3
   },
   "file_extension": ".py",
   "mimetype": "text/x-python",
   "name": "python",
   "nbconvert_exporter": "python",
   "pygments_lexer": "ipython3",
   "version": "3.9.7"
  }
 },
 "nbformat": 4,
 "nbformat_minor": 5
}
