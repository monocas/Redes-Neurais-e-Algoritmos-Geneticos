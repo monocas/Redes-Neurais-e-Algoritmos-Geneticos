{
 "cells": [
  {
   "cell_type": "markdown",
   "id": "d30c3f9e-cbd6-4fff-8c51-c47efdbe056e",
   "metadata": {},
   "source": [
    "## CAIXEIRO COM A GASOLINA INFINITA (E SEM CONSCIÊNCIA AMBIENTAL!!)\n",
    "\n",
    "<hr>"
   ]
  },
  {
   "cell_type": "markdown",
   "id": "be2f98ea-0538-406c-9f20-97021d24646d",
   "metadata": {},
   "source": [
    "## Introdução\n",
    "Neste notebook, iremos resolver o problema com caixeiro viajante com a gasolina infinita, isto é, queremos encontrar o pior caminho possível para o caixeiro. O problema é do tipo NP-difícil.\n",
    "\n",
    "\n",
    "Afim, de resolver o problema, considere um número $n\\geq 7$ de coordenadas $(x,y)$ de cidades e que o caixeiro tenha combustível infinito. Você pode gerar as coordenadas de forma aleatória ou simplesmente usar as coordenadas que desejar. O caixeiro só anda em linha reta e apenas entre duas cidades. O caixeiro começa e termina seu trajeto na mesma cidade e, fora a cidade inicial, ele não visita nenhuma outra cidade mais de uma vez."
   ]
  },
  {
   "cell_type": "markdown",
   "id": "e7187704-d897-4c27-a727-c98c37f68ff2",
   "metadata": {},
   "source": [
    "## Objetivo\n",
    "\n",
    "Encontre o caminho de *maior* distância no problema do caixeiro viajante e mostre ele de forma gráfica."
   ]
  },
  {
   "cell_type": "markdown",
   "id": "15212864-162d-4bca-b2f5-a7b02903e50f",
   "metadata": {},
   "source": [
    "## PASSO 1"
   ]
  },
  {
   "cell_type": "markdown",
   "id": "06391106-f8eb-4980-9540-6292be2d7d77",
   "metadata": {},
   "source": [
    "### Vamos criar cidades?\n"
   ]
  },
  {
   "cell_type": "code",
   "execution_count": 1,
   "id": "71e6d66d-a6ac-473a-8d23-82b48aee4a3d",
   "metadata": {},
   "outputs": [],
   "source": [
    "import random as rd\n",
    "\n",
    "\n",
    "def cria_cidades(n):\n",
    "    \"\"\"Cria um dicionário aleatório de cidades com suas posições (x,y).\n",
    "\n",
    "    Argumentos\n",
    "      n: inteiro positivo\n",
    "        Número de cidades que serão visitadas pelo caixeiro.\n",
    "\n",
    "    Retorno:\n",
    "      Dicionário contendo o nome das cidades como chaves e a coordenada no plano\n",
    "      cartesiano das cidades como valores.\n",
    "    \"\"\"\n",
    "\n",
    "    cidades = {}\n",
    "\n",
    "    for i in range(n):\n",
    "        cidades[f\"Cidade {i}\"] = (rd.random(), rd.random())\n",
    "\n",
    "    return cidades"
   ]
  },
  {
   "cell_type": "markdown",
   "id": "e5cc01e1-433d-4318-b00d-3d7eaed41a57",
   "metadata": {},
   "source": [
    "## Importações"
   ]
  },
  {
   "cell_type": "markdown",
   "id": "35477f61-408d-4bd4-a49f-8d0329630bd1",
   "metadata": {},
   "source": [
    "Todos os comandos de `import` devem estar dentro desta seção."
   ]
  },
  {
   "cell_type": "code",
   "execution_count": 2,
   "id": "77f2bfd5-1069-445b-9e13-44ee07213f37",
   "metadata": {},
   "outputs": [],
   "source": [
    "import random\n",
    "from itertools import permutations\n",
    "\n",
    "from funcoes import populacao_inicial_cv\n",
    "from funcoes import funcao_objetivo_cv as funcao_objetivo_individuo\n",
    "from funcoes import funcao_objetivo_pop_cv\n",
    "from funcoes import selecao_torneio_max\n",
    "from funcoes import cruzamento_ordenado as funcao_cruzamento\n",
    "from funcoes import mutacao_de_troca as funcao_mutacao"
   ]
  },
  {
   "cell_type": "markdown",
   "id": "a553d2da-f8aa-428b-86a7-667f146444cc",
   "metadata": {},
   "source": [
    "## Código e Discussões"
   ]
  },
  {
   "cell_type": "markdown",
   "id": "6b641a3d-8423-4449-9885-25ae05cad040",
   "metadata": {},
   "source": [
    "Esse problema é similar ao experimento A.07 em que temos um problema do caixeiro viajante com minimização, contudo, nesse caso vamos resolver o problema só que em uma situação em que o caixeiro é inimigo do meio ambiente e companheiro do agronegócio, isto é, desperdiça demais gasolina, logo, temos um problema de maximização."
   ]
  },
  {
   "cell_type": "code",
   "execution_count": 3,
   "id": "4888d02b-484d-4b56-a162-d4651c610e24",
   "metadata": {},
   "outputs": [],
   "source": [
    "### CONSTANTES\n",
    "\n",
    "# relacionadas à busca\n",
    "TAMANHO_POP = 50\n",
    "CHANCE_CRUZAMENTO = 0.5\n",
    "CHANCE_MUTACAO = 0.05\n",
    "NUM_COMBATENTES_NO_TORNEIO = 3\n",
    "NUM_GERACOES = 1000\n",
    "\n",
    "# relacionadas ao problema a ser resolvido\n",
    "NUMERO_DE_CIDADES = 10\n",
    "CIDADES = cria_cidades(NUMERO_DE_CIDADES)"
   ]
  },
  {
   "cell_type": "code",
   "execution_count": 4,
   "id": "0d3739c2-7a9f-4b63-8568-06106e1abdc5",
   "metadata": {},
   "outputs": [],
   "source": [
    "# Funções locais\n",
    "\n",
    "def cria_populacao_inicial(tamanho, nada):\n",
    "    return populacao_inicial_cv(tamanho, CIDADES)\n",
    "\n",
    "def funcao_objetivo_pop(populacao):\n",
    "    return funcao_objetivo_pop_cv(populacao, CIDADES)\n",
    "\n",
    "def funcao_selecao(populacao, fitness):\n",
    "    return selecao_torneio_max(populacao, fitness, NUM_COMBATENTES_NO_TORNEIO)"
   ]
  },
  {
   "cell_type": "code",
   "execution_count": 5,
   "id": "8d5470b6-5377-4472-b461-59367ddea47f",
   "metadata": {},
   "outputs": [],
   "source": [
    "# Busca por algoritmo genético\n",
    "\n",
    "populacao = cria_populacao_inicial(TAMANHO_POP, CIDADES)\n",
    "\n",
    "melhor_fitness_ja_visto = -float(\"inf\")  # é assim que escrevemos infinito em python\n",
    "\n",
    "for n in range(NUM_GERACOES):\n",
    "    \n",
    "    # Seleção\n",
    "    fitness = funcao_objetivo_pop(populacao)\n",
    "    populacao = funcao_selecao(populacao, fitness)\n",
    "    \n",
    "    # Cruzamento\n",
    "    pais = populacao[0::2]\n",
    "    maes = populacao[1::2]\n",
    "    \n",
    "    contador = 0\n",
    "    \n",
    "    for pai, mae in zip(pais, maes):\n",
    "        if random.random() <= CHANCE_CRUZAMENTO:\n",
    "            filho1, filho2 = funcao_cruzamento(pai, mae)\n",
    "            populacao[contador] = filho1\n",
    "            populacao[contador + 1] = filho2\n",
    "        \n",
    "        contador = contador + 2   \n",
    "        \n",
    "    # Mutação\n",
    "    for n in range(len(populacao)):\n",
    "        if random.random() <= CHANCE_MUTACAO:\n",
    "            individuo = populacao[n]\n",
    "            populacao[n] = funcao_mutacao(individuo)            \n",
    "            \n",
    "    # melhor individuo já visto até agora\n",
    "    fitness = funcao_objetivo_pop(populacao)\n",
    "    maior_fitness = max(fitness)\n",
    "    if maior_fitness > melhor_fitness_ja_visto:        \n",
    "        posicao = fitness.index(maior_fitness)\n",
    "        melhor_individuo_ja_visto = populacao[posicao]\n",
    "        melhor_fitness_ja_visto = maior_fitness    \n"
   ]
  },
  {
   "cell_type": "code",
   "execution_count": 6,
   "id": "d862196e-3362-4863-b7d5-3e52ed3f3e13",
   "metadata": {},
   "outputs": [
    {
     "name": "stdout",
     "output_type": "stream",
     "text": [
      "\n",
      "Melhor individuo obtido por algoritmos genéticos:\n",
      "['Cidade 7', 'Cidade 0', 'Cidade 4', 'Cidade 8', 'Cidade 5', 'Cidade 9', 'Cidade 1', 'Cidade 6', 'Cidade 2', 'Cidade 3'] com distância: 7.353043152437565\n"
     ]
    }
   ],
   "source": [
    "print()\n",
    "print(\"Melhor individuo obtido por algoritmos genéticos:\")\n",
    "print(melhor_individuo_ja_visto, \"com distância:\", melhor_fitness_ja_visto)"
   ]
  },
  {
   "cell_type": "markdown",
   "id": "594d72a5-01ef-4815-8759-fb1fb48e6552",
   "metadata": {},
   "source": [
    "### Vamos tentar permutar?"
   ]
  },
  {
   "cell_type": "code",
   "execution_count": 7,
   "id": "0cc2acc4-fc68-4189-a134-55dac9fcff04",
   "metadata": {},
   "outputs": [],
   "source": [
    "# Busca testando todas as permutações\n",
    "\n",
    "melhor_fitness_top = 0\n",
    "\n",
    "## Ixi tenho que continuar depois"
   ]
  },
  {
   "cell_type": "markdown",
   "id": "b5ae804e-51dd-4b0d-adc9-f999e7976e3c",
   "metadata": {},
   "source": [
    "## Conclusão\n"
   ]
  },
  {
   "cell_type": "code",
   "execution_count": null,
   "id": "61245eeb-a9b1-47a2-8d1c-79e136ad3840",
   "metadata": {},
   "outputs": [],
   "source": []
  },
  {
   "cell_type": "markdown",
   "id": "cfc7b48d-3a38-4b4c-99bc-ceebeab160a3",
   "metadata": {},
   "source": [
    "## Playground\n",
    "\n"
   ]
  },
  {
   "cell_type": "code",
   "execution_count": null,
   "id": "b4fbbc50-f532-44be-ac35-2eb507104669",
   "metadata": {},
   "outputs": [],
   "source": []
  }
 ],
 "metadata": {
  "kernelspec": {
   "display_name": "ilumpy",
   "language": "python",
   "name": "ilumpy"
  },
  "language_info": {
   "codemirror_mode": {
    "name": "ipython",
    "version": 3
   },
   "file_extension": ".py",
   "mimetype": "text/x-python",
   "name": "python",
   "nbconvert_exporter": "python",
   "pygments_lexer": "ipython3",
   "version": "3.9.7"
  }
 },
 "nbformat": 4,
 "nbformat_minor": 5
}
