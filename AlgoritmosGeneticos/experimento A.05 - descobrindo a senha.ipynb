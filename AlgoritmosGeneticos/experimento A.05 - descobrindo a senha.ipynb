{
 "cells": [
  {
   "cell_type": "markdown",
   "metadata": {},
   "source": [
    "Descobrindo a senha\n",
    "===================\n",
    "\n"
   ]
  },
  {
   "cell_type": "markdown",
   "metadata": {},
   "source": [
    "## Objetivo\n",
    "\n"
   ]
  },
  {
   "cell_type": "markdown",
   "metadata": {},
   "source": [
    "Usar um algoritmo genético para descobrir uma senha.\n",
    "\n"
   ]
  },
  {
   "cell_type": "markdown",
   "metadata": {},
   "source": [
    "## Descrição do problema\n",
    "\n"
   ]
  },
  {
   "cell_type": "markdown",
   "metadata": {},
   "source": [
    "Neste problema, a função objetivo deve saber a senha correta e quantificar de alguma maneira o quão perto ou longe os palpites estão da solução (veja que isso é algo que não temos no mundo real. Nenhum site irá te dizer se você está acertando ou errando seu palpite). O critério de parada deste problema é quando a senha for descoberta.\n",
    "\n"
   ]
  },
  {
   "cell_type": "markdown",
   "metadata": {},
   "source": [
    "## Importações\n",
    "\n"
   ]
  },
  {
   "cell_type": "code",
   "execution_count": 1,
   "metadata": {},
   "outputs": [],
   "source": [
    "from funcoes import populacao_inicial_senha\n",
    "from funcoes import funcao_objetivo_pop_senha\n",
    "from funcoes import selecao_torneio_min\n",
    "from funcoes import cruzamento_ponto_simples as funcao_cruzamento\n",
    "from funcoes import mutacao_senha\n",
    "import random"
   ]
  },
  {
   "cell_type": "markdown",
   "metadata": {},
   "source": [
    "## Códigos e discussão\n",
    "\n"
   ]
  },
  {
   "cell_type": "code",
   "execution_count": 2,
   "metadata": {},
   "outputs": [],
   "source": [
    "### CONSTANTES\n",
    "\n",
    "# relacionadas à busca\n",
    "TAMANHO_POP = 50\n",
    "NUM_GERACOES = 2000\n",
    "CHANCE_CRUZAMENTO = 0.5\n",
    "CHANCE_MUTACAO = 0.05\n",
    "NUM_COMBATENTES_NO_TORNEIO = 3\n",
    "\n",
    "# relacionadas ao problema a ser resulvido\n",
    "SENHA = \"danielejoaomelhorescarecasilum\"\n",
    "LETRAS_POSSIVEIS = \"abcdefghijklmnopqrstuvwxyz\"\n",
    "NUM_GENES = len(SENHA)"
   ]
  },
  {
   "cell_type": "code",
   "execution_count": 3,
   "metadata": {},
   "outputs": [],
   "source": [
    "# funções locais\n",
    "\n",
    "def cria_populacao_inicial(tamanho, tamanho_senha):\n",
    "    return populacao_inicial_senha(tamanho, tamanho_senha, LETRAS_POSSIVEIS)\n",
    "\n",
    "def funcao_objetivo_pop(populacao):\n",
    "    return funcao_objetivo_pop_senha(populacao, SENHA)\n",
    "\n",
    "def funcao_selecao(populacao, fitness):\n",
    "    return selecao_torneio_min(populacao, fitness, NUM_COMBATENTES_NO_TORNEIO)\n",
    "\n",
    "def funcao_mutacao(individuo):\n",
    "    return mutacao_senha(individuo, LETRAS_POSSIVEIS)"
   ]
  },
  {
   "cell_type": "code",
   "execution_count": 4,
   "metadata": {},
   "outputs": [
    {
     "name": "stdout",
     "output_type": "stream",
     "text": [
      "Progresso da melhor senha já vista:\n",
      "hrngslajjoukenmekklnpghdxtmjel - fitness: 193\n",
      "edshmtlcpnrmhunporofjixinubdyu - fitness: 184\n",
      "edngslajjoukenmekkgdjixinubbuw - fitness: 179\n",
      "edshmlajjoukenmekkgdjizaleiwtj - fitness: 173\n",
      "edngslajwoukenmqcatdcezaleiwtj - fitness: 162\n",
      "edshmlajjoukenmekatdcezaleiwtj - fitness: 157\n",
      "edngslajjoukenmekkofjihfffiwtj - fitness: 145\n",
      "edngslajhhgmenmekkofjihfffiwtj - fitness: 140\n",
      "edngslajhhgmcnmqkkofjihfffiwtj - fitness: 134\n",
      "edngslajhhgmenmquaofjihfffiwtj - fitness: 126\n",
      "edngslajhhgmenmquatdjihfffiwtj - fitness: 121\n",
      "edngslajjhgmenmquatdjihfffiwtj - fitness: 119\n",
      "edngslajjhgmenmquatdcehfffiwtj - fitness: 116\n",
      "edngslajjhgmenmquatdjqhfffiwtj - fitness: 111\n",
      "edngslajjhgmenmquetdjqhfffiwtj - fitness: 107\n",
      "ebngslajjhgmenmquetdjqhfffiwtj - fitness: 105\n",
      "edngplajjhgmenmquetdjqhfffiwtj - fitness: 104\n",
      "edngslajjhgmenmquetdjqhfffijtj - fitness: 98\n",
      "edngplajjhgmenmquetdjqhfffijxj - fitness: 97\n",
      "edngplajjhgmenmquetdjqhffsiwtj - fitness: 91\n",
      "edngelajjhgmenmquetdjqhfffijxj - fitness: 86\n",
      "edngelajjhgmenmquetdjqhfffijtj - fitness: 84\n",
      "ebngelajjhgmenmquetdjqhfffijtj - fitness: 82\n",
      "edngelejjhgmenmquetdjqhfffijtj - fitness: 80\n",
      "ebngelejjhgmenmquetdjqhfffijtj - fitness: 78\n",
      "edngelejjhgmenhquetdjqhfffijtj - fitness: 75\n",
      "edngelejjhgmenhquetdjqffffijtj - fitness: 73\n",
      "ebngelejjhgmenhquetdjrhfffijtj - fitness: 72\n",
      "ebngelejjhimenhquetdjrhfffijtj - fitness: 70\n",
      "ebngelejrhimenhquetdjrhfffijtj - fitness: 68\n",
      "ebngelejjhqmenhquetdjrhfffijtj - fitness: 66\n",
      "ebngelejrhqmenhquetdjrhfffijtj - fitness: 64\n",
      "ebngelejrhqmenhquetdjrhfffijto - fitness: 63\n",
      "ebngelejjhqmenhquetdjrhfafijtj - fitness: 61\n",
      "ebngelejrhqmenhquetdjrhfafijtj - fitness: 59\n",
      "ebngelejnhqmenhquetdjrhfafijtj - fitness: 57\n",
      "ebngelejnhqmenhquetdjrffafijtj - fitness: 55\n",
      "ebngelejnhpmenhquetdjrffafijtj - fitness: 54\n",
      "ebngelejncpmenhquetdjrffafijtj - fitness: 49\n",
      "ebngelejncpmenhquetdjrffamijtj - fitness: 42\n",
      "ebngelejncpmenhquetdjrffamijtm - fitness: 39\n",
      "ebngelejncpmenhqretdjrffamijtm - fitness: 36\n",
      "ebngelejncpmenhqretdjrffamiktm - fitness: 35\n",
      "ebngelejncpmekhqretdjrffamiktm - fitness: 34\n",
      "ebngelejncpmenhqretdgrffamiktm - fitness: 32\n",
      "ebnielejncpmekhqretdgrffamiktm - fitness: 29\n",
      "ebnielejncpmekhqretdgrffaxiktm - fitness: 28\n",
      "ebnielejncpmekhqretdgrffariktm - fitness: 24\n",
      "eanielejncpmekhqretdgrffariktm - fitness: 23\n",
      "eanielejncpmekhqresdgrffariktm - fitness: 22\n",
      "eanielejncpmekhqresdgrfdariktm - fitness: 20\n",
      "eanielejncpmekhqresdcrfdariktm - fitness: 16\n",
      "eanielejncpmekhmresdarfdariktm - fitness: 14\n",
      "eanielejncomekhmresdarfdariktm - fitness: 13\n",
      "eanielejocomekhmresdarfdariktm - fitness: 12\n",
      "eanielejobomekhmresdarfdariktm - fitness: 11\n",
      "eanielejobomekhmresdaredariktm - fitness: 10\n",
      "canielejobomekhnresdaredariktm - fitness: 9\n",
      "eanielejobomelhnresdaredariktm - fitness: 8\n",
      "eanielejobomelhnrescaredariktm - fitness: 7\n",
      "eanielejobomelhnrescaredasiktm - fitness: 6\n",
      "eanielejobomelhnrescaredasikum - fitness: 5\n",
      "eanielejobomelhnrescarecasikum - fitness: 4\n",
      "eanielejobomelhorescarecasikum - fitness: 3\n",
      "danielejobomelhorescarecasikum - fitness: 2\n",
      "danielejoaomelhorescarecasikum - fitness: 1\n",
      "danielejoaomelhorescarecasilum - fitness: 0\n",
      "\n",
      "Melhor palpite da senha encontrado:\n",
      "danielejoaomelhorescarecasilum\n"
     ]
    }
   ],
   "source": [
    "populacao = cria_populacao_inicial(TAMANHO_POP, NUM_GENES)\n",
    "\n",
    "melhor_fitness_ja_visto = float(\"inf\")  # é assim que escrevemos infinito em python\n",
    "\n",
    "print(\"Progresso da melhor senha já vista:\")\n",
    "\n",
    "for n in range(NUM_GERACOES):    \n",
    "    \n",
    "    # Seleção\n",
    "    fitness = funcao_objetivo_pop(populacao)\n",
    "    populacao = funcao_selecao(populacao, fitness)\n",
    "    \n",
    "    # Cruzamento\n",
    "    pais = populacao[0::2]\n",
    "    maes = populacao[1::2]\n",
    "    \n",
    "    contador = 0\n",
    "    \n",
    "    for pai, mae in zip(pais, maes):\n",
    "        if random.random() <= CHANCE_CRUZAMENTO:\n",
    "            filho1, filho2 = funcao_cruzamento(pai, mae)\n",
    "            populacao[contador] = filho1\n",
    "            populacao[contador + 1] = filho2\n",
    "        \n",
    "        contador = contador + 2   \n",
    "        \n",
    "    # Mutação\n",
    "    for n in range(len(populacao)):\n",
    "        if random.random() <= CHANCE_MUTACAO:\n",
    "            individuo = populacao[n]\n",
    "            populacao[n] = funcao_mutacao(individuo)            \n",
    "            \n",
    "    # melhor individuo já visto até agora\n",
    "    fitness = funcao_objetivo_pop(populacao)\n",
    "    menor_fitness = min(fitness)\n",
    "    if menor_fitness < melhor_fitness_ja_visto:        \n",
    "        posicao = fitness.index(menor_fitness)\n",
    "        melhor_individuo_ja_visto = populacao[posicao]\n",
    "        melhor_fitness_ja_visto = menor_fitness\n",
    "        print(\"\".join(melhor_individuo_ja_visto), \"- fitness:\", melhor_fitness_ja_visto)\n",
    "\n",
    "print()\n",
    "print(\"Melhor palpite da senha encontrado:\")\n",
    "print(\"\".join(melhor_individuo_ja_visto))"
   ]
  },
  {
   "cell_type": "markdown",
   "metadata": {},
   "source": [
    "## Conclusão\n",
    "<p style=\"text-align: justify\"> Este notebook nos permite identificar a versatilidade dos algoritímos genéticos, nos permitindo desenvolver problemas de maximização e de minimização. Neste caso, foi necessário a utilização de minimização para a resolução do problema já que gostariamos de identificar a menor possibilidade para a identificação do código. </p>\n",
    "<p style=\"text-align: justify\"> A fim de se utilizar dessa minimzação, opta-se pela utilização da função fitness que determina a cada individuo, o valor está associado ao quão adaptado ele está no ambiente com o qual ele se desenvolve. Essa mensuração é muito interessante, porque nos dá um parametro de quão bem está o nosso \"chute\" para a identificação da senha. </p>"
   ]
  },
  {
   "cell_type": "markdown",
   "metadata": {},
   "source": [
    "## Playground\n",
    "\n"
   ]
  },
  {
   "cell_type": "code",
   "execution_count": null,
   "metadata": {},
   "outputs": [],
   "source": []
  }
 ],
 "metadata": {
  "kernelspec": {
   "display_name": "ilumpy",
   "language": "python",
   "name": "ilumpy"
  },
  "language_info": {
   "codemirror_mode": {
    "name": "ipython",
    "version": 3
   },
   "file_extension": ".py",
   "mimetype": "text/x-python",
   "name": "python",
   "nbconvert_exporter": "python",
   "pygments_lexer": "ipython3",
   "version": "3.9.7"
  },
  "org": null
 },
 "nbformat": 4,
 "nbformat_minor": 4
}
