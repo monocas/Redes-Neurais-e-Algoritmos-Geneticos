{
 "cells": [
  {
   "cell_type": "markdown",
   "metadata": {},
   "source": [
    "Descobrindo a senha\n",
    "===================\n",
    "\n"
   ]
  },
  {
   "cell_type": "markdown",
   "metadata": {},
   "source": [
    "## Objetivo\n",
    "\n"
   ]
  },
  {
   "cell_type": "markdown",
   "metadata": {},
   "source": [
    "Usar um algoritmo genético para descobrir uma senha.\n",
    "\n"
   ]
  },
  {
   "cell_type": "markdown",
   "metadata": {},
   "source": [
    "## Descrição do problema\n",
    "\n"
   ]
  },
  {
   "cell_type": "markdown",
   "metadata": {},
   "source": [
    "Neste problema, a função objetivo deve saber a senha correta e quantificar de alguma maneira o quão perto ou longe os palpites estão da solução (veja que isso é algo que não temos no mundo real. Nenhum site irá te dizer se você está acertando ou errando seu palpite). O critério de parada deste problema é quando a senha for descoberta.\n",
    "\n"
   ]
  },
  {
   "cell_type": "markdown",
   "metadata": {},
   "source": [
    "## Importações\n",
    "\n"
   ]
  },
  {
   "cell_type": "code",
   "execution_count": 1,
   "metadata": {},
   "outputs": [],
   "source": [
    "from funcoes import populacao_inicial_senha\n",
    "from funcoes import funcao_objetivo_pop_senha\n",
    "from funcoes import selecao_torneio_min\n",
    "from funcoes import cruzamento_ponto_simples as funcao_cruzamento\n",
    "from funcoes import mutacao_senha\n",
    "import random"
   ]
  },
  {
   "cell_type": "markdown",
   "metadata": {},
   "source": [
    "## Códigos e discussão\n",
    "\n"
   ]
  },
  {
   "cell_type": "markdown",
   "metadata": {},
   "source": [
    "<h4 style='text-align:justify'> GERAL </h4>\n",
    "<p style=\"text-align: justify\"> O problema abordado é a respeito da identificação da senha correta e quantificação do quão perto ou longe está o palpite do algoritmo para a determinação da senha correta estabelecida. O critério de parada deste problema é quando a senha for descoberta. Logo, de modo a solucionar o problema, as questões que norteam são: Quais analogias e estratégias podem ser utilizados para a resolução deste problema? Os algorítmos genéticos conseguem abordar uma solução para esta problemática?  </p>\n",
    "<p style=\"text-align: justify\"> Pois bem! As respostas para os nossos questionamentos são afirmativaa! Retomando o abordado em outros notebooks, os Algoritmos Genéticos são baseados nas concepções de evolução darwiniana, sendo representada, de modo sintetizado, por três operadores: Seleção, Cruzamento e Mutação. Esses operadores nos permitem realizar operações probabilisticas que determinam a melhor aptidão (fitness) do nosso algoritimo, esse fitness é determinado pela função objetiva do nosso código e como o nosso problema deseja identificar se a senha feita pelo algoritmo é igual a senha correta, a utilização do fitness para determinação do melhor palpite é uma das melhoras estratégias a serem utilizadas. </p>\n",
    "<p style=\"text-align: justify\"> E como esse fitness pode ser utilizado? Acoplando a ideia do fitness de um gene a um sistema de torneio, conseguimos utilizar uma estratégia de distância, isto é, se o nosso algoritmo desenvolver um senha inicial aleatória é possível comparar a distância de um gene (letra) em relação a um gene do mesmo índice da senha correta, logo, quanto menor for a distância entre os índices do gene (n=0) melhor é o palpite e mais próximo estamos da senha verdadeira. Vamos ver um pouco mais sobre essa lógica? </p>\n"
   ]
  },
  {
   "cell_type": "markdown",
   "metadata": {},
   "source": [
    "<h4 style='text-align:justify'> PASSO 1 </h4>\n",
    "<p style=\"text-align: justify\"> De modo a realizar o algoritmo genético, determina-se as constantes gerais do problema como o tamanho da população, número de gerações, a probabilidade de cruzamento e mutação, além do número de genes(letras) que serão utilizados no torneio para compararmos quais das letras apresentam o menor fitness para a resolução do problema.  </p>"
   ]
  },
  {
   "cell_type": "code",
   "execution_count": 2,
   "metadata": {},
   "outputs": [],
   "source": [
    "### CONSTANTES\n",
    "# relacionadas à busca\n",
    "TAMANHO_POP = 50\n",
    "NUM_GERACOES = 2000\n",
    "CHANCE_CRUZAMENTO = 0.5\n",
    "CHANCE_MUTACAO = 0.05\n",
    "NUM_COMBATENTES_NO_TORNEIO = 3\n",
    "\n",
    "# relacionadas ao problema a ser resulvido\n",
    "SENHA = \"danielejoaomelhorescarecasilum\"\n",
    "LETRAS_POSSIVEIS = \"abcdefghijklmnopqrstuvwxyz\"\n",
    "NUM_GENES = len(SENHA)"
   ]
  },
  {
   "cell_type": "markdown",
   "metadata": {},
   "source": [
    "<h4 style='text-align:justify'> PASSO 2 </h4>\n",
    "<p style=\"text-align: justify\"> Em seguida, desenvolve-se as funções locais para geração da população inicial - formada a partir das constantes determinadas; a função objetivo da população - uma função que recebe um indivíduo e retorna o seu valor de aptidão;  a função de seleção - dado o valor de aptidão determina-se quais genes vão ir para as seguintes gerações; e a função de mutação. </p>"
   ]
  },
  {
   "cell_type": "code",
   "execution_count": 3,
   "metadata": {},
   "outputs": [],
   "source": [
    "# funções locais\n",
    "\n",
    "def cria_populacao_inicial(tamanho, tamanho_senha):\n",
    "    return populacao_inicial_senha(tamanho, tamanho_senha, LETRAS_POSSIVEIS)\n",
    "\n",
    "def funcao_objetivo_pop(populacao):\n",
    "    return funcao_objetivo_pop_senha(populacao, SENHA)\n",
    "\n",
    "def funcao_selecao(populacao, fitness):\n",
    "    return selecao_torneio_min(populacao, fitness, NUM_COMBATENTES_NO_TORNEIO)\n",
    "\n",
    "def funcao_mutacao(individuo):\n",
    "    return mutacao_senha(individuo, LETRAS_POSSIVEIS)"
   ]
  },
  {
   "cell_type": "markdown",
   "metadata": {},
   "source": [
    "<h4 style='text-align:justify'> PASSO 3 </h4>\n",
    "<p style=\"text-align: justify\"> Estabelecidas as constantes e funções, a primeira linha de código é responsável pela criação da população a partir das constantes estabelecidas, isto é, uma população com tamanho máximo de 50 individuos e com os seus genes limitados ao tamanho total da senha. Após a criação da população, estabelece-se o fitness como infinito e como o nosso problema é caracterizado como um problema de minimização, queremos encontrar o fitness com menor número (n=0). Em seguida, o nosso código irá percorrer em loop pelo número total de gerações estabelecido inicialmente, de modo aos indivíduos que formaram a população troquem as informações dos seus genes segundo o cruzamento estabelecido, que possibilita formar novos indivíduos que podem possuir tanto as melhores como as piores características dos indivíduos iniciais. Ademais, com o intuito de aumentar a variabilidade genética, inclui-se o operador de mutação que é responsável por alterar determinadas partes aleatórias do gene do indivíduo de forma a buscar uma melhoria do indivíduo gerado. </p>\n",
    "<p style=\"text-align: justify\"> Todo o processo é avaliado pelo fitness, uma função que recebe um indivíduo e retorna o seu valor de aptidão. Esse valor de aptidão é obtido através da comparação entre o indice da senha gerada atualmente e o da senha correta, utiliza-se do algoritmo de torneio afim de avaliar qual das letras apresenta melhor aptidão. Esse processo de comparação foi desenvolvido da função \"ord\" que nos permite transformar caracteres em números e verificar a distância entre eles. Em nosso problema de minimização, desejamos obter o menor fitness (distância) de modo a encontrar a senha correta.  </p>"
   ]
  },
  {
   "cell_type": "code",
   "execution_count": 4,
   "metadata": {},
   "outputs": [
    {
     "name": "stdout",
     "output_type": "stream",
     "text": [
      "Progresso da melhor senha já vista:\n",
      "hrngslajjoukenmekklnpghdxtmjel - fitness: 193\n",
      "edshmtlcpnrmhunporofjixinubdyu - fitness: 184\n",
      "edngslajjoukenmekkgdjixinubbuw - fitness: 179\n",
      "edshmlajjoukenmekkgdjizaleiwtj - fitness: 173\n",
      "edngslajwoukenmqcatdcezaleiwtj - fitness: 162\n",
      "edshmlajjoukenmekatdcezaleiwtj - fitness: 157\n",
      "edngslajjoukenmekkofjihfffiwtj - fitness: 145\n",
      "edngslajhhgmenmekkofjihfffiwtj - fitness: 140\n",
      "edngslajhhgmcnmqkkofjihfffiwtj - fitness: 134\n",
      "edngslajhhgmenmquaofjihfffiwtj - fitness: 126\n",
      "edngslajhhgmenmquatdjihfffiwtj - fitness: 121\n",
      "edngslajjhgmenmquatdjihfffiwtj - fitness: 119\n",
      "edngslajjhgmenmquatdcehfffiwtj - fitness: 116\n",
      "edngslajjhgmenmquatdjqhfffiwtj - fitness: 111\n",
      "edngslajjhgmenmquetdjqhfffiwtj - fitness: 107\n",
      "ebngslajjhgmenmquetdjqhfffiwtj - fitness: 105\n",
      "edngplajjhgmenmquetdjqhfffiwtj - fitness: 104\n",
      "edngslajjhgmenmquetdjqhfffijtj - fitness: 98\n",
      "edngplajjhgmenmquetdjqhfffijxj - fitness: 97\n",
      "edngplajjhgmenmquetdjqhffsiwtj - fitness: 91\n",
      "edngelajjhgmenmquetdjqhfffijxj - fitness: 86\n",
      "edngelajjhgmenmquetdjqhfffijtj - fitness: 84\n",
      "ebngelajjhgmenmquetdjqhfffijtj - fitness: 82\n",
      "edngelejjhgmenmquetdjqhfffijtj - fitness: 80\n",
      "ebngelejjhgmenmquetdjqhfffijtj - fitness: 78\n",
      "edngelejjhgmenhquetdjqhfffijtj - fitness: 75\n",
      "edngelejjhgmenhquetdjqffffijtj - fitness: 73\n",
      "ebngelejjhgmenhquetdjrhfffijtj - fitness: 72\n",
      "ebngelejjhimenhquetdjrhfffijtj - fitness: 70\n",
      "ebngelejrhimenhquetdjrhfffijtj - fitness: 68\n",
      "ebngelejjhqmenhquetdjrhfffijtj - fitness: 66\n",
      "ebngelejrhqmenhquetdjrhfffijtj - fitness: 64\n",
      "ebngelejrhqmenhquetdjrhfffijto - fitness: 63\n",
      "ebngelejjhqmenhquetdjrhfafijtj - fitness: 61\n",
      "ebngelejrhqmenhquetdjrhfafijtj - fitness: 59\n",
      "ebngelejnhqmenhquetdjrhfafijtj - fitness: 57\n",
      "ebngelejnhqmenhquetdjrffafijtj - fitness: 55\n",
      "ebngelejnhpmenhquetdjrffafijtj - fitness: 54\n",
      "ebngelejncpmenhquetdjrffafijtj - fitness: 49\n",
      "ebngelejncpmenhquetdjrffamijtj - fitness: 42\n",
      "ebngelejncpmenhquetdjrffamijtm - fitness: 39\n",
      "ebngelejncpmenhqretdjrffamijtm - fitness: 36\n",
      "ebngelejncpmenhqretdjrffamiktm - fitness: 35\n",
      "ebngelejncpmekhqretdjrffamiktm - fitness: 34\n",
      "ebngelejncpmenhqretdgrffamiktm - fitness: 32\n",
      "ebnielejncpmekhqretdgrffamiktm - fitness: 29\n",
      "ebnielejncpmekhqretdgrffaxiktm - fitness: 28\n",
      "ebnielejncpmekhqretdgrffariktm - fitness: 24\n",
      "eanielejncpmekhqretdgrffariktm - fitness: 23\n",
      "eanielejncpmekhqresdgrffariktm - fitness: 22\n",
      "eanielejncpmekhqresdgrfdariktm - fitness: 20\n",
      "eanielejncpmekhqresdcrfdariktm - fitness: 16\n",
      "eanielejncpmekhmresdarfdariktm - fitness: 14\n",
      "eanielejncomekhmresdarfdariktm - fitness: 13\n",
      "eanielejocomekhmresdarfdariktm - fitness: 12\n",
      "eanielejobomekhmresdarfdariktm - fitness: 11\n",
      "eanielejobomekhmresdaredariktm - fitness: 10\n",
      "canielejobomekhnresdaredariktm - fitness: 9\n",
      "eanielejobomelhnresdaredariktm - fitness: 8\n",
      "eanielejobomelhnrescaredariktm - fitness: 7\n",
      "eanielejobomelhnrescaredasiktm - fitness: 6\n",
      "eanielejobomelhnrescaredasikum - fitness: 5\n",
      "eanielejobomelhnrescarecasikum - fitness: 4\n",
      "eanielejobomelhorescarecasikum - fitness: 3\n",
      "danielejobomelhorescarecasikum - fitness: 2\n",
      "danielejoaomelhorescarecasikum - fitness: 1\n",
      "danielejoaomelhorescarecasilum - fitness: 0\n",
      "\n",
      "Melhor palpite da senha encontrado:\n",
      "danielejoaomelhorescarecasilum\n"
     ]
    }
   ],
   "source": [
    "populacao = cria_populacao_inicial(TAMANHO_POP, NUM_GENES)\n",
    "\n",
    "melhor_fitness_ja_visto = float(\"inf\")  # é assim que escrevemos infinito em python\n",
    "\n",
    "print(\"Progresso da melhor senha já vista:\")\n",
    "\n",
    "for n in range(NUM_GERACOES):    \n",
    "    \n",
    "    # Seleção\n",
    "    fitness = funcao_objetivo_pop(populacao)\n",
    "    populacao = funcao_selecao(populacao, fitness)\n",
    "    \n",
    "    # Cruzamento\n",
    "    pais = populacao[0::2]\n",
    "    maes = populacao[1::2]\n",
    "    \n",
    "    contador = 0\n",
    "    \n",
    "    for pai, mae in zip(pais, maes):\n",
    "        if random.random() <= CHANCE_CRUZAMENTO:\n",
    "            filho1, filho2 = funcao_cruzamento(pai, mae)\n",
    "            populacao[contador] = filho1\n",
    "            populacao[contador + 1] = filho2\n",
    "        \n",
    "        contador = contador + 2   \n",
    "        \n",
    "    # Mutação\n",
    "    for n in range(len(populacao)):\n",
    "        if random.random() <= CHANCE_MUTACAO:\n",
    "            individuo = populacao[n]\n",
    "            populacao[n] = funcao_mutacao(individuo)            \n",
    "            \n",
    "    # melhor individuo já visto até agora\n",
    "    fitness = funcao_objetivo_pop(populacao)\n",
    "    menor_fitness = min(fitness)\n",
    "    if menor_fitness < melhor_fitness_ja_visto:        \n",
    "        posicao = fitness.index(menor_fitness)\n",
    "        melhor_individuo_ja_visto = populacao[posicao]\n",
    "        melhor_fitness_ja_visto = menor_fitness\n",
    "        print(\"\".join(melhor_individuo_ja_visto), \"- fitness:\", melhor_fitness_ja_visto)\n",
    "\n",
    "print()\n",
    "print(\"Melhor palpite da senha encontrado:\")\n",
    "print(\"\".join(melhor_individuo_ja_visto))"
   ]
  },
  {
   "cell_type": "markdown",
   "metadata": {
    "tags": []
   },
   "source": [
    "## Conclusão\n",
    "<p style=\"text-align: justify\"> Ao se falar a respeito de algoritmos genéticos, em um primeiro momento, há a impressão de que estes são aplicados apenas a situações problemas de caráter biológico. Entretanto, apesar deles serem voltados a esta categoria, eles não são restritos a resolução destas ocorrências e o presente experimento demonstra a possibilidade de utilização em outras áreas, porque de modo sintetizado, este algoritmo está relacionado com busca e pesquisa - se destoando dos gerais ao trabalhar com a codificação do conjunto de parâmetros e não com os próprios parâmetros, além de trabalharem com uma população e serem propabilisticos; o importante é entender o seu contexto geral e adapta-lo para o nosso objetivo! Em nosso contexto, temos uma situação-problema em que a função objetivo deve saber a senha correta e quantificar de alguma maneira o quão perto ou longe os palpites estão da solução. </p>\n",
    "<p style=\"text-align: justify\"> Pensando nessa situação, o que podemos utilizar de conceitos de algoritmos genéticos? A fim de relacionar os conceitos, vamos pensar no problema de forma similar a um problema genético, isto é, queremos um indivíduo cujo genes corresponderão a um conjunto de genes já conhecidos (as senhas), e queremos realizar uma comparação entre um número de n de genes para ver qual a menor distância de combinações para termos que o nosso gene aleatório seja igual ao nosso gene já conhecido (a senha), logo, observa-se um problema de minimização.    Ainda dissertando a respeito dos algoritmos genéticos, este notebook nos permite identificar a versatilidade destes, nos permitindo desenvolver problemas de maximização e de minimização. </p>\n",
    "<p style=\"text-align: justify\"> Agora pensando em algoritmos genéticos e problemas de minimização, a melhor estratégia a ser utilizada é por meio da função fitness que determina o valor do quão bem cada individuo consegue resolver este ambiente, em um viés biológico, ele demonstra um valor que nos permite identificar o quão adaptado o individuo está no ambiente com o qual ele se desenvolve. Essa mensuração é muito interessante, porque nos dá um parametro de quão bem está o nosso \"chute\" para a identificação da senha já determinada. Outra função importante é a de torneio, pois através dela que se faz um comparativo entre as letras (uma espécie de competição!) para analisar o quão próximas estas estão da nossa resposta desejada, ademais, o torneio é bem interessante porque o combate nunca termina em \"morte\" ou \"descarte\" do individuo, já que ele pode retornar em outro momento, em um grupo de possíveis combatentes.  \n",
    "</p>"
   ]
  },
  {
   "cell_type": "markdown",
   "metadata": {},
   "source": [
    "## Playground\n",
    "\n"
   ]
  },
  {
   "cell_type": "markdown",
   "metadata": {},
   "source": [
    "Muito obrigada pela aula, Dani :)"
   ]
  }
 ],
 "metadata": {
  "kernelspec": {
   "display_name": "ilumpy",
   "language": "python",
   "name": "ilumpy"
  },
  "language_info": {
   "codemirror_mode": {
    "name": "ipython",
    "version": 3
   },
   "file_extension": ".py",
   "mimetype": "text/x-python",
   "name": "python",
   "nbconvert_exporter": "python",
   "pygments_lexer": "ipython3",
   "version": "3.9.7"
  },
  "org": null
 },
 "nbformat": 4,
 "nbformat_minor": 4
}
