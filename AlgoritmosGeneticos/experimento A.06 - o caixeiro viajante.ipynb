{
 "cells": [
  {
   "cell_type": "markdown",
   "metadata": {},
   "source": [
    "Caixeiro viajante\n",
    "=================\n",
    "\n"
   ]
  },
  {
   "cell_type": "markdown",
   "metadata": {},
   "source": [
    "## Introdução\n",
    "\n"
   ]
  },
  {
   "cell_type": "markdown",
   "metadata": {},
   "source": [
    "Até agora, sempre que nós aplicamos os operadores de `cruzamento` ou de `mutação` nós não nos preocupamos se o indivíduo gerado por estes processo era um `indivíduo válido`. Um indivíduo válido é aquele que representa uma solução possível e bem formulada para o problema em questão.\n",
    "\n",
    "Por exemplo, no problema das caixas binárias, [1, 0, 0, 1] é um indivíduo válido para o caso de termos 4 caixas. Um exemplo de `indivíduo inválido` para este mesmo problema seria [1, 0, 0, a], pois um dos genes está assumindo um valor fora do domínio. Outro exemplo de indivíduo inválido poderia ser [1, 1, 0], pois é um indivíduo com apenas 3 genes, sendo que o esperado eram 4 genes.\n",
    "\n",
    "Neste experimento nós veremos estratégias para evitar que indivíduos inválidos sejam obtidos quando usamos os operadores de cruzamento e de mutação. No notebook seguinte veremos como aplicar uma penalidade para indivíduos inválidos que forem gerados durante uma busca genética com restrições.\n",
    "\n"
   ]
  },
  {
   "cell_type": "markdown",
   "metadata": {},
   "source": [
    "## Objetivo\n",
    "\n"
   ]
  },
  {
   "cell_type": "markdown",
   "metadata": {},
   "source": [
    "Encontrar uma solução para o problema do caixeiro viajante. Considere que ele irá visitar 5 cidades, pode iniciar sua viagem por qualquer uma destas cidades e deve retornar à cidade de início. Durante seu trajeto, não pode visitar a mesma cidade duas vezes (única exceção é a cidade inicial).\n",
    "\n"
   ]
  },
  {
   "cell_type": "markdown",
   "metadata": {},
   "source": [
    "## Descrição do problema\n",
    "\n"
   ]
  },
  {
   "cell_type": "markdown",
   "metadata": {},
   "source": [
    "O problema consiste em descobrir a rota de menor distância entre $n$ pontos no plano cartesiano (ou seja, $n$ pontos com coordenadas $(x,y)$). A rota pode se iniciar em qualquer um dos pontos disponíveis e deve terminar no ponto inicial, visitando todos os demais pontos apenas uma vez. Considere que a rota entre um ponto e outro é a linha reta que liga os dois pontos.\n",
    "\n",
    "O código abaixo é um gerador de coordenadas de cidades. Use ele caso queira.\n",
    "\n"
   ]
  },
  {
   "cell_type": "code",
   "execution_count": 1,
   "metadata": {},
   "outputs": [],
   "source": [
    "import random as rd\n",
    "\n",
    "\n",
    "def cria_cidades(n):\n",
    "    \"\"\"Cria um dicionário aleatório de cidades com suas posições (x,y).\n",
    "\n",
    "    Argumentos\n",
    "      n: inteiro positivo\n",
    "        Número de cidades que serão visitadas pelo caixeiro.\n",
    "\n",
    "    Retorno:\n",
    "      Dicionário contendo o nome das cidades como chaves e a coordenada no plano\n",
    "      cartesiano das cidades como valores.\n",
    "    \"\"\"\n",
    "\n",
    "    cidades = {}\n",
    "\n",
    "    for i in range(n):\n",
    "        cidades[f\"Cidade {i}\"] = (rd.random(), rd.random())\n",
    "\n",
    "    return cidades"
   ]
  },
  {
   "cell_type": "markdown",
   "metadata": {},
   "source": [
    "## Importações\n",
    "\n"
   ]
  },
  {
   "cell_type": "code",
   "execution_count": 2,
   "metadata": {},
   "outputs": [],
   "source": [
    "import random\n",
    "from itertools import permutations\n",
    "\n",
    "from funcoes import cria_cidades\n",
    "\n",
    "from funcoes import populacao_inicial_cv as cria_populacao_inicial\n",
    "from funcoes import funcao_objetivo_pop_cv\n",
    "from funcoes import funcao_objetivo_cv\n",
    "from funcoes import selecao_torneio_min as funcao_selecao # esse já temos!\n",
    "from funcoes import cruzamento_ordenado as funcao_cruzamento\n",
    "from funcoes import mutacao_de_troca as funcao_mutacao"
   ]
  },
  {
   "cell_type": "markdown",
   "metadata": {},
   "source": [
    "## Códigos e discussão\n",
    "\n"
   ]
  },
  {
   "cell_type": "code",
   "execution_count": 3,
   "metadata": {},
   "outputs": [],
   "source": [
    "### CONSTANTES\n",
    "\n",
    "# relacionadas à busca\n",
    "TAMANHO_POP = 50\n",
    "NUM_GERACOES = 1000\n",
    "CHANCE_CRUZAMENTO = 0.5\n",
    "CHANCE_MUTACAO = 0.05\n",
    "NUM_COMBATENTES_NO_TORNEIO = 3\n",
    "\n",
    "# relacionadas ao problema a ser resolvido\n",
    "NUMERO_DE_CIDADES = 5\n",
    "CIDADES = cria_cidades(NUMERO_DE_CIDADES)"
   ]
  },
  {
   "cell_type": "code",
   "execution_count": 4,
   "metadata": {},
   "outputs": [],
   "source": [
    "# Funções locais\n",
    "\n",
    "def funcao_objetivo_pop(populacao):\n",
    "    return funcao_objetivo_pop_cv(populacao, CIDADES)\n",
    "\n",
    "def funcao_objetivo_individuo(individuo):\n",
    "    return funcao_objetivo_cv(individuo, CIDADES)"
   ]
  },
  {
   "cell_type": "code",
   "execution_count": 5,
   "metadata": {},
   "outputs": [],
   "source": [
    "# Busca por algoritmo genético\n",
    "\n",
    "populacao = cria_populacao_inicial(TAMANHO_POP, CIDADES)\n",
    "\n",
    "melhor_fitness_ja_visto = float(\"inf\")  # é assim que escrevemos infinito em python\n",
    "\n",
    "for n in range(NUM_GERACOES):\n",
    "    \n",
    "    # Seleção\n",
    "    fitness = funcao_objetivo_pop(populacao)\n",
    "    populacao = funcao_selecao(populacao, fitness)\n",
    "    \n",
    "    # Cruzamento\n",
    "    pais = populacao[0::2]\n",
    "    maes = populacao[1::2]\n",
    "    \n",
    "    contador = 0\n",
    "    \n",
    "    for pai, mae in zip(pais, maes):\n",
    "        if random.random() <= CHANCE_CRUZAMENTO:\n",
    "            filho1, filho2 = funcao_cruzamento(pai, mae)\n",
    "            populacao[contador] = filho1\n",
    "            populacao[contador + 1] = filho2\n",
    "        \n",
    "        contador = contador + 2   \n",
    "        \n",
    "    # Mutação\n",
    "    for n in range(len(populacao)):\n",
    "        if random.random() <= CHANCE_MUTACAO:\n",
    "            individuo = populacao[n]\n",
    "            populacao[n] = funcao_mutacao(individuo)            \n",
    "            \n",
    "    # melhor individuo já visto até agora\n",
    "    fitness = funcao_objetivo_pop(populacao)\n",
    "    menor_fitness = min(fitness)\n",
    "    if menor_fitness < melhor_fitness_ja_visto:        \n",
    "        posicao = fitness.index(menor_fitness)\n",
    "        melhor_individuo_ja_visto = populacao[posicao]\n",
    "        melhor_fitness_ja_visto = menor_fitness    "
   ]
  },
  {
   "cell_type": "code",
   "execution_count": 6,
   "metadata": {},
   "outputs": [],
   "source": [
    "# Busca testando todas as permutações\n",
    "\n",
    "melhor_fitness_ever = float(\"inf\")\n",
    "\n",
    "# testando todas as permutações possíveis\n",
    "for caminho in permutations(list(CIDADES.keys())):\n",
    "    distancia = funcao_objetivo_individuo(caminho)\n",
    "    if distancia < melhor_fitness_ever:\n",
    "        melhor_fitness_ever = distancia\n",
    "        melhor_resposta_ever = caminho"
   ]
  },
  {
   "cell_type": "code",
   "execution_count": 7,
   "metadata": {},
   "outputs": [
    {
     "name": "stdout",
     "output_type": "stream",
     "text": [
      "\n",
      "Melhor individuo obtido por algoritmos genéticos:\n",
      "['Cidade 3', 'Cidade 1', 'Cidade 0', 'Cidade 2', 'Cidade 4'] com distância: 1.9551939415093746\n",
      "\n",
      "Melhor individuo obtido por busca exaustiva:\n",
      "('Cidade 0', 'Cidade 3', 'Cidade 4', 'Cidade 2', 'Cidade 1') com distância: 1.9551939415093746\n"
     ]
    }
   ],
   "source": [
    "# Checando os resultados\n",
    "\n",
    "print()\n",
    "print(\"Melhor individuo obtido por algoritmos genéticos:\")\n",
    "print(melhor_individuo_ja_visto, \"com distância:\", melhor_fitness_ja_visto)\n",
    "\n",
    "print()\n",
    "print(\"Melhor individuo obtido por busca exaustiva:\")\n",
    "print(melhor_resposta_ever, \"com distância:\", melhor_fitness_ever)\n"
   ]
  },
  {
   "cell_type": "markdown",
   "metadata": {},
   "source": [
    "## Conclusão\n",
    "<p style=\"text-align: justify\"> O problema a ser resolvido consiste na descoberta da menor distância possível para o caixeiro viajante entre $n$ pontos no plano cartesiano (ou seja, $n$ pontos com coordenadas $(x,y)$). A rota pode se iniciar em qualquer um dos pontos disponíveis e deve terminar no ponto inicial, visitando todos os demais pontos apenas uma vez. Considere que a rota entre um ponto e outro é a linha reta que liga os dois pontos. O caixeiro viajante é uma personagem que percorre de cidade a cidade a fim de vender os seus produtos! </p>\n",
    "<p style=\"text-align: justify\">  Este notebook nos permite identificar a versatilidade dos algoritímos genéticos, nos permitindo novamente, desenvolver problemas de minimização utilizando os conceitos genéticos discutidoss nos experimentos anteriores, pois se deseja resolver o problema observando a menor distância possível do viajante em cada cidade. Outro tópico importante para a resolução do problema é a respeito da limitação imposta, isto é, as condições de que o viajante não poderia passar mais de uma vez pela mesma cidade e  de que ele precisava retornar para a cidade inicial. </p>\n",
    "<p style=\"text-align: justify\"> Essas condições abordam um problema de difícil resolução, de caráter NP dificíl. Para quem não lembra,  NP (Non-Deterministic Polynomial time) é um conjunto de problemas que são decidíveis em tempo polinomial por uma máquina de Turing não-determinística. Logo, deve-se determinar todas as situações possíveis para se conseguir determinar qual é de fato a melhor solução, isto é, o menor caminho a ser percorrido pelo caixeiro entre as cidades. </p>\n",
    "<p style=\"text-align: justify\"> A estratégia utilizada para a resolução do desafio é a construção de funções, em especial, funções de cálculo de distância entre as cidades, a de mutação, cruzamento  e uma função de objetivo que vai solucionar o nosso problema. A primeira função se baseou na fórmula de cálculo euclidiano de dois pontos referentes a um ponto x e y, por sua vez, a função de cruzamento é de caráter de cruzamento ordenado .E por fim, desenvolveu-se a função objetivo que consistia de um loop que calculava as distâncias obtidas nos diferentes caminhos possíveis, retornando a menor distância possível. </p>\n",
    "<p style=\"text-align: justify\"> É interessante de se observar que ao se rodar o código diversas vezes, temos diferentes resultados minimos e isso porque? Justamente, porque o caminho do caixeiro pode se iniciar a cada n ponto, a cada n cidade e essa delimitação é determnada por meio da nossa função objetivo que retorna a distância percorrida pelo caixeiro seguindo o caminho contido no possível caminho de escolha do caixeiro. Lembrando que após percorrer todas as cidades em ordem, o caixeiro retorna para a cidade original de onde começou sua viagem. </p>"
   ]
  },
  {
   "cell_type": "markdown",
   "metadata": {},
   "source": [
    "## Playground\n",
    "\n"
   ]
  },
  {
   "cell_type": "code",
   "execution_count": 8,
   "metadata": {},
   "outputs": [
    {
     "name": "stdout",
     "output_type": "stream",
     "text": [
      "Muito obrigada pela aula Dani :)\n"
     ]
    }
   ],
   "source": [
    "print(\"Muito obrigada pela aula Dani :)\")"
   ]
  }
 ],
 "metadata": {
  "kernelspec": {
   "display_name": "ilumpy",
   "language": "python",
   "name": "ilumpy"
  },
  "language_info": {
   "codemirror_mode": {
    "name": "ipython",
    "version": 3
   },
   "file_extension": ".py",
   "mimetype": "text/x-python",
   "name": "python",
   "nbconvert_exporter": "python",
   "pygments_lexer": "ipython3",
   "version": "3.9.7"
  },
  "org": null
 },
 "nbformat": 4,
 "nbformat_minor": 4
}
