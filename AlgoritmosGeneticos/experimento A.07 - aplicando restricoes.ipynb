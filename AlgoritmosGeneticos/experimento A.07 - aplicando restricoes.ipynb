{
 "cells": [
  {
   "cell_type": "markdown",
   "metadata": {},
   "source": [
    "Aplicando restrições na busca\n",
    "=============================\n",
    "\n"
   ]
  },
  {
   "cell_type": "markdown",
   "metadata": {},
   "source": [
    "## Introdução\n",
    "\n"
   ]
  },
  {
   "cell_type": "markdown",
   "metadata": {},
   "source": [
    "Muitos problemas de otimização com relevância científica têm uma ou mais `restrições` que devem ser levadas em consideração na hora de resolver o problema.\n",
    "\n",
    "Lembra do `problema da mochila` que vimos em Lógica Computacional? Era um problema de otimização onde queríamos maximizar o valor dos itens colocados na mochila enquanto observávamos a restrição do peso total dos itens (do contrário, a mochila rasgava).\n",
    "\n",
    "Uma forma de considerar essas restrições nos problemas é aplicando uma `penalidade` na função objetivo.\n",
    "\n",
    "Vamos pensar como seria essa penalidade no problema da mochila: a função objetivo é maximizar o valor dos itens na mochila, então é um problema de maximização. A função objetivo pode ser a soma dos itens da mochila. Se fosse só isso, teríamos\n",
    "\n",
    "$$\n",
    "f = \\sum_{i, i \\in \\mathrm{mochila}}\\mathrm{valor}(i)\n",
    "$$\n",
    "\n",
    "No entanto, apenas essa função não resolve o problema! Precisamos levar em consideração o limite de peso da mochila! Para isso, penalizamos a função objetivo levando em consideração essa restrição:\n",
    "\n",
    "$f=\\begin{cases}\n",
    "0.01 & \\textrm{se peso > limite da mochila}\\\\\n",
    "\\sum_{i,i\\in\\mathrm{mochila}}(\\mathrm{valor}(i)) & \\textrm{se peso} \\leq \\textrm{limite da mochila}\n",
    "\\end{cases}$\n",
    "\n",
    "Agora finalmente podemos seguir em frente e resolver o problema.\n",
    "\n"
   ]
  },
  {
   "cell_type": "markdown",
   "metadata": {},
   "source": [
    "## Reflexões\n",
    "\n"
   ]
  },
  {
   "cell_type": "markdown",
   "metadata": {},
   "source": [
    "Se usarmos a equação de $f$ acima, qual será o valor de $f$ caso não exista uma solução para um certo problema da mochila?\n",
    "\n",
    "Na equação de $f$ acima nós usamos um valor práximo de zero para indicar que uma restrição do problema não foi satisfeita. Você consegue pensar em outra estratégia para penalizar soluções inválidas?\n",
    "\n"
   ]
  },
  {
   "cell_type": "markdown",
   "metadata": {},
   "source": [
    "## Objetivo\n",
    "\n"
   ]
  },
  {
   "cell_type": "markdown",
   "metadata": {},
   "source": [
    "Encontrar uma solução para o problema da mochila usando algoritmos genéticos. Considere que existem 10 itens diferentes (com pesos e valores diferentes) disponíveis para serem escolhidos.\n",
    "\n"
   ]
  },
  {
   "cell_type": "markdown",
   "metadata": {},
   "source": [
    "## Descrição do problema\n",
    "\n"
   ]
  },
  {
   "cell_type": "markdown",
   "metadata": {},
   "source": [
    "No problema da mochila você tem um número $n$ de itens disponíveis, cada um com um peso e um valor associado. Sua mochila tem a capacidade de carregar um número $p$ de quilogramas, sendo que mais que isso faz com que sua mochila rasgue e todos os itens dentro dela caiam no chão e se quebrem de maneira catastrófica (indesejado). Sua tarefa é encontrar um conjunto de itens (considerando os $n$ disponíveis) que maximize o valor contido dentro da mochila, porém que tenham um peso dentro da capacidade da mesma.\n",
    "\n"
   ]
  },
  {
   "cell_type": "markdown",
   "metadata": {},
   "source": [
    "## Importações\n",
    "\n"
   ]
  },
  {
   "cell_type": "code",
   "execution_count": 1,
   "metadata": {},
   "outputs": [],
   "source": [
    "import random\n",
    "\n",
    "from funcoes import computa_mochila\n",
    "from funcoes import funcao_objetivo_pop_mochila\n",
    "from funcoes import populacao_cb as cria_populacao_inicial\n",
    "from funcoes import selecao_roleta_max as funcao_selecao\n",
    "from funcoes import cruzamento_ponto_simples as funcao_cruzamento\n",
    "from funcoes import mutacao_cb as funcao_mutacao"
   ]
  },
  {
   "cell_type": "markdown",
   "metadata": {},
   "source": [
    "## Códigos e discussão\n",
    "\n"
   ]
  },
  {
   "cell_type": "markdown",
   "metadata": {},
   "source": [
    "<h4 style='text-align:justify'> GERAL </h4>\n",
    "<p style=\"text-align: justify\"> O problema abordado é a respeito de aplicação de restrição na busca, isto é, temos uma mochila com um número $n$ de itens disponíveis, cada um com um peso e um valor associado. A restrição do exercício consiste no fato de que a mochilha tem a capacidade de carregar um número $p$ de quilogramas e se ultrapassarmos esse peso, temos como resultado a mochilha rasgada e a perda de todos os nossos itens, logo, temos como objetivo encontrar um conjunto de itens (considerando os $n$ disponíveis) que maximize o valor contido dentro da mochila, porém que tenham um peso dentro da capacidade máxima delimitada. </p>\n",
    "<p style=\"text-align: justify\"> O enunciado nos permite observar que temos um problema de maximização, porque queremos os itens mais valiosos que não ultrapassem o valor estabelecido pela mochila. Essa determinação de que a mochila possui peso e valor, nos permite utilizar de outra postulação importante: os dicionários. Para quem não se lembra, os dicionários são coleções de itens que tem seus elementos armazenados de forma não ordenada, de modo geral, seus elementos contém uma chave e valor. </p>\n",
    "<p style=\"text-align: justify\"> Essas características nos permitem desenvolver uma estratégia similar a abordada nos experimentos iniciais - caixas binárias; isto é, se um objeto estiver presente na mochila, o indivíduo terá um valor representando isso e se não, terá outro valor. A própria escrita de se e não se, nos permite utilizar de outra estratégia para a resolução do código, o uso de condicionais if e else para a determinação e análise do problema. Acoplando todas as ideias citadas, podemos construir um algoritmmo de tal forma que selecionado os objetos do dicionários, constroi-se uma lista (porque esta pode ser ordenada) que represente a mochila, contendo todos os objetos sendo identificada a presença ou não do objeto na mochilha pelos valores de 0 (não tem o objeti) e 1 (temos o objeto). </p>\n",
    "<p style=\"text-align: justify\"> Dada essa estratégia, podemos fazer combinações que analisem qual o melhor fitness dos individuos que solucionem o nosso problema, novamente utilizando de conceitos dos Algoritmos Genéticos como Fitness, Cruzamento e Mutação. Vamos ver um pouco mais sobre essa lógica? </p>\n"
   ]
  },
  {
   "cell_type": "markdown",
   "metadata": {},
   "source": [
    "<h4 style='text-align:justify'> PASSO 1 </h4>\n",
    "<p style=\"text-align: justify\"> De modo a realizar o algoritmo genético, determina-se as constantes gerais do problema como o tamanho da população, número de gerações, a probabilidade de cruzamento e mutação, o limite de peso e o dicionário de possíveis objetos com seus pesos e valores. </p>"
   ]
  },
  {
   "cell_type": "code",
   "execution_count": 2,
   "metadata": {},
   "outputs": [],
   "source": [
    "### CONSTANTES\n",
    "\n",
    "# relacionadas à busca\n",
    "TAMANHO_POP = 20\n",
    "NUM_GERACOES = 100\n",
    "CHANCE_CRUZAMENTO = 0.5\n",
    "CHANCE_MUTACAO = 0.05\n",
    "\n",
    "# relacionadas ao problema a ser resolvido\n",
    "LIMITE_DE_PESO = 15\n",
    "OBJETOS = {\n",
    "    # dicionário baseado no que vocês enviaram na aula de Lógica\n",
    "\n",
    "    \"vinil falsificado da volta do One Direction\": {\n",
    "        \"peso\": 2,\n",
    "        \"valor\": 2500,\n",
    "    },\n",
    "    \"Harry Potter: ele voltou, confia!\": {\n",
    "        \"peso\": 3,\n",
    "        \"valor\": 1500,\n",
    "    },\n",
    "    \"Quadrinho super raro do Aranha-Homem da vida real\": {\n",
    "        \"peso\": 3,\n",
    "        \"valor\": 7000,\n",
    "    },\n",
    "    \"mesa dobrável para laptop\": {\n",
    "        \"peso\": 3,\n",
    "        \"valor\": 150,\n",
    "    },\n",
    "    \"tablet\": {\n",
    "        \"peso\": 0.6,\n",
    "        \"valor\": 2400,\n",
    "    },\n",
    "    \"teclado musical\": {\n",
    "        \"peso\": 3.5,\n",
    "        \"valor\": 3000,\n",
    "    },\n",
    "    \"bicicleta\": {\n",
    "        \"peso\": 16,\n",
    "        \"valor\": 1000,\n",
    "    },\n",
    "    \"lições em dia\": {\n",
    "        \"peso\": 8,\n",
    "        \"valor\": 5000,\n",
    "    },\n",
    "    \"energético\": {\n",
    "        \"peso\": 2,\n",
    "        \"valor\": 1500,\n",
    "    },\n",
    "    \"docinhos para o stress\": {\n",
    "        \"peso\": 5,\n",
    "        \"valor\": 3000,\n",
    "    },\n",
    "}\n",
    "NUM_OBJETOS = len(OBJETOS)\n",
    "ORDEM_DOS_NOMES = list(sorted(OBJETOS.keys()))"
   ]
  },
  {
   "cell_type": "markdown",
   "metadata": {},
   "source": [
    "<h4 style='text-align:justify'> PASSO 2 </h4>\n",
    "<p style=\"text-align: justify\"> Em seguida, desenvolve-se as as funções objetivo da população - recebe o indivíduo e retorna o seu valor de aptidão. </p>"
   ]
  },
  {
   "cell_type": "code",
   "execution_count": 3,
   "metadata": {},
   "outputs": [],
   "source": [
    "# Funções locais\n",
    "\n",
    "def funcao_objetivo_pop(populacao):\n",
    "    return funcao_objetivo_pop_mochila(\n",
    "        populacao, OBJETOS, LIMITE_DE_PESO, ORDEM_DOS_NOMES\n",
    "    )"
   ]
  },
  {
   "cell_type": "markdown",
   "metadata": {},
   "source": [
    "<h4 style='text-align:justify'> PASSO 3 </h4>\n",
    "<p style=\"text-align: justify\"> Estabelecidas as constantes e funções, a primeira linha de código é responsável pela criação da população a partir das constantes estabelecidas, isto é, uma população com tamanho máximo de 50 individuos e com o número de objetos que é representado pelo dicionário que atribui suas características de peso e valor. Após a criação da população, estabelece-se o fitness como infinito e como o nosso problema é caracterizado como um problema de maximização, queremos encontrar o fitness com maior número. Em seguida, o nosso código irá percorrer em loop pelo número total de gerações estabelecido inicialmente, de modo aos indivíduos que formaram a população troquem as informações dos seus genes segundo o cruzamento e mutação estabelecido. </p>\n",
    "<p style=\"text-align: justify\">  Esses cruzamentos e mutações irão ser avaliadas pelo fitness que irá retornar o valor de aptidão da combinação, nos permitindo identificar a melhor resposta que solucione o problema determinado, isto é, colocar na mochilha sem exceder o peso, a melhor combinação de itens de peso e valor. </p>"
   ]
  },
  {
   "cell_type": "code",
   "execution_count": 4,
   "metadata": {},
   "outputs": [
    {
     "name": "stdout",
     "output_type": "stream",
     "text": [
      "Maior valor: 13900 | Peso: 10.1\n",
      "Maior valor: 15500 | Peso: 13.5\n",
      "Maior valor: 17900 | Peso: 14.1\n",
      "\n",
      "Você deve pegar os seguintes itens:\n",
      "+ Harry Potter: ele voltou, confia!\n",
      "+ Quadrinho super raro do Aranha-Homem da vida real\n",
      "+ energético\n",
      "+ tablet\n",
      "+ teclado musical\n",
      "+ vinil falsificado da volta do One Direction\n",
      "\n",
      "Com isso, sua mochila terá o valor de 17900 dinheiros e peso de 14.1 unidades de massa.\n"
     ]
    }
   ],
   "source": [
    "# Busca por algoritmo genético\n",
    "\n",
    "populacao = cria_populacao_inicial(TAMANHO_POP, NUM_OBJETOS)\n",
    "\n",
    "# variaveis para o hall da fama\n",
    "melhor_fitness_ja_visto = -float(\"inf\")\n",
    "melhor_individuo_ja_visto = [0] * NUM_OBJETOS\n",
    "\n",
    "for n in range(NUM_GERACOES):\n",
    "\n",
    "    # Seleção\n",
    "    fitness = funcao_objetivo_pop(populacao)\n",
    "    populacao = funcao_selecao(populacao, fitness)\n",
    "\n",
    "    # Cruzamento\n",
    "    pais = populacao[0::2]\n",
    "    maes = populacao[1::2]\n",
    "\n",
    "    contador = 0\n",
    "\n",
    "    for pai, mae in zip(pais, maes):\n",
    "        if random.random() <= CHANCE_CRUZAMENTO:\n",
    "            filho1, filho2 = funcao_cruzamento(pai, mae)\n",
    "            populacao[contador] = filho1\n",
    "            populacao[contador + 1] = filho2\n",
    "\n",
    "        contador = contador + 2\n",
    "\n",
    "    # Mutação\n",
    "    for n in range(len(populacao)):\n",
    "        if random.random() <= CHANCE_MUTACAO:\n",
    "            individuo = populacao[n]\n",
    "            populacao[n] = funcao_mutacao(individuo)\n",
    "\n",
    "    # melhor individuo já visto até agora (hall da fama)\n",
    "    fitness = funcao_objetivo_pop(populacao)\n",
    "    maior_fitness = max(fitness)\n",
    "    posicao = fitness.index(maior_fitness)\n",
    "    individuo = populacao[posicao].copy()\n",
    "    valor, peso = computa_mochila(individuo, OBJETOS, ORDEM_DOS_NOMES)\n",
    "    if maior_fitness > melhor_fitness_ja_visto and peso <= LIMITE_DE_PESO:\n",
    "        melhor_fitness_ja_visto = maior_fitness\n",
    "        melhor_individuo_ja_visto = individuo\n",
    "        print(f\"Maior valor: {valor} | Peso: {peso}\")\n",
    "\n",
    "\n",
    "# reportando o melhor individuo encontrado\n",
    "print()\n",
    "print(\"Você deve pegar os seguintes itens:\")\n",
    "for pega_ou_nao, item in zip(melhor_individuo_ja_visto, ORDEM_DOS_NOMES):\n",
    "    if pega_ou_nao == 1:\n",
    "        print(\"+\", item)\n",
    "print()\n",
    "valor_total, peso_total = computa_mochila(\n",
    "    melhor_individuo_ja_visto, OBJETOS, ORDEM_DOS_NOMES\n",
    ")\n",
    "print(\n",
    "    f\"Com isso, sua mochila terá o valor de {valor_total} dinheiros \"\n",
    "    f\"e peso de {peso_total} unidades de massa.\"\n",
    ")"
   ]
  },
  {
   "cell_type": "markdown",
   "metadata": {},
   "source": [
    "**Desafio**: resolva o experimento considerando uma busca em grade para encontrar a melhor resposta.\n",
    "\n"
   ]
  },
  {
   "cell_type": "markdown",
   "metadata": {},
   "source": [
    "Fica para a próxima, Dani!"
   ]
  },
  {
   "cell_type": "markdown",
   "metadata": {},
   "source": [
    "## Conclusão\n",
    "\n",
    "\n"
   ]
  },
  {
   "cell_type": "markdown",
   "metadata": {},
   "source": [
    "<p style=\"text-align: justify\"> Neste experimento, temos como situação-problema, resolver o problema da mochila que consiste em encontrar um conjunto de itens que maximize o valor contido dentro da mochila de forma que respeite o limite de peso da mochila. Ressalta-se que no problema da mochila há um número de  $n$ de itens disponíveis, cada um com um peso e um valor associado. Contextualizado o problema, observa-se a característica dele, isto é, temos um problema de maximização com restrição. </p>\n",
    "<p style=\"text-align: justify\"> De modo a cumprir a restrinção, temos que conduzir o nosso algoritimo genético a fimm de se desenvolver indivudos válidos que solucionem o nosso problema, nossa estratégia consiste em desenvolver uma função objetivo que utilize de operadores para desenvolver genes/individuos válidos que realizem o nosso objetivo: a maximização dentro da nossa limitação. A função objetivo será utilizada no processo de seleção, sendo utilizado o fitness para nos sabermos uma melhor opção de genes. </p>\n",
    "<p style=\"text-align: justify\"> Um dos problemas iniciais a esse problema consiste em como associar os valores do dicionário de modo ordenado, a fim de resolve-lo, utiliza-se uma estrátegia similar ao abordado em experimentos anteriores, como o experimento de caixa binária, identificando as possibilidades dos itens dentro da mochila por meio de uma operação de 0 (não tem o item) e 1(tem o item). Feita essa operação, temos uma função responsável por somar os valores dos itens e o peso de cada objeto, a fim de controlar a limitação, utiliza-se de condicionais como if e else para que a somatória cumpra o requisito de peso máximo, caso ela não cumpra, atribui-se o valor ao código de 0.01, que nos afirma que a mochila rasgou e a operação não é maximizada da forma desejada. </p>\n",
    "\n"
   ]
  },
  {
   "cell_type": "markdown",
   "metadata": {},
   "source": [
    "## Playground\n",
    "\n"
   ]
  },
  {
   "cell_type": "markdown",
   "metadata": {},
   "source": [
    "Muito obrigada pela aula, Dani :)"
   ]
  }
 ],
 "metadata": {
  "kernelspec": {
   "display_name": "ilumpy",
   "language": "python",
   "name": "ilumpy"
  },
  "language_info": {
   "codemirror_mode": {
    "name": "ipython",
    "version": 3
   },
   "file_extension": ".py",
   "mimetype": "text/x-python",
   "name": "python",
   "nbconvert_exporter": "python",
   "pygments_lexer": "ipython3",
   "version": "3.9.7"
  },
  "org": null
 },
 "nbformat": 4,
 "nbformat_minor": 4
}
