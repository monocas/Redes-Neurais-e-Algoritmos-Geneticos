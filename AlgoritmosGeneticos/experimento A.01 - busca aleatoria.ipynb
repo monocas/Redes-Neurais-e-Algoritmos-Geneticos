{
 "cells": [
  {
   "cell_type": "markdown",
   "metadata": {},
   "source": [
    "Busca aleatória\n",
    "===============\n",
    "\n"
   ]
  },
  {
   "cell_type": "markdown",
   "metadata": {},
   "source": [
    "## Introdução\n",
    "\n"
   ]
  },
  {
   "cell_type": "markdown",
   "metadata": {},
   "source": [
    "Uma forma simples de se encontrar uma solução para um `problema de otimização` é realizando uma `busca aleatória`. A busca aleatória, como o próprio nome sugere, é um algoritmo onde um certo `espaço de busca` é definido de onde sorteamos `candidatos` de soluções para o problema.\n",
    "\n",
    "Diferentemente de outros algoritmos de otimização, a busca aleatória não requer que a `função objetivo` seja diferenciável nem contínua.\n",
    "\n",
    "Um algoritmo de busca aleatória segue os seguintes passos:\n",
    "\n",
    "1.  Um espaço de busca é definido\n",
    "\n",
    "2.  Um candidato $x$ dentro do espaço de busca é sorteado aleatoriamente\n",
    "\n",
    "3.  Calculamos o resultado da função objetivo para o candidato $x$\n",
    "\n",
    "4.  Se o critério de parada for atingido, encerrar o algoritmo e retornar ao usuário o candidato que teve melhor resultado durante a busca. Do contrário, retorne ao passo 2\n",
    "\n"
   ]
  },
  {
   "cell_type": "markdown",
   "metadata": {},
   "source": [
    "## Reflexões\n",
    "\n"
   ]
  },
  {
   "cell_type": "markdown",
   "metadata": {},
   "source": [
    "Você diria que o algoritmo de busca aleatória é determinístico ou probabilístico?\n",
    "\n",
    "Em quais problemas de otimização você acredita que este algoritmo seja uma boa escolha?\n",
    "\n",
    "Em quais problemas de otimização você acredita que este algoritmo seja uma má escolha?\n",
    "\n"
   ]
  },
  {
   "cell_type": "markdown",
   "metadata": {},
   "source": [
    "## Objetivo\n",
    "\n"
   ]
  },
  {
   "cell_type": "markdown",
   "metadata": {},
   "source": [
    "Encontrar uma solução para o problema das caixas binárias usando o algoritmo de busca aleatória. Considere 4 caixas.\n",
    "\n"
   ]
  },
  {
   "cell_type": "markdown",
   "metadata": {},
   "source": [
    "## Descrição do problema\n",
    "\n"
   ]
  },
  {
   "cell_type": "markdown",
   "metadata": {},
   "source": [
    "O problema das caixas binárias é simples: nós temos um certo número de caixas e cada uma pode conter um valor do conjunto $\\{0, 1\\}$. O objetivo é encontrar uma combinação de caixas onde a soma dos valores contidos dentro delas é máximo.\n",
    "\n",
    "Como todo problema computacional, um dos desafios é &ldquo;traduzir&rdquo; o problema dado em estruturas computacionais.\n",
    "\n"
   ]
  },
  {
   "cell_type": "markdown",
   "metadata": {},
   "source": [
    "## Importações\n",
    "\n"
   ]
  },
  {
   "cell_type": "code",
   "execution_count": 1,
   "metadata": {},
   "outputs": [],
   "source": [
    "from random import choice"
   ]
  },
  {
   "cell_type": "markdown",
   "metadata": {},
   "source": [
    "## Códigos e discussão\n",
    "\n"
   ]
  },
  {
   "cell_type": "code",
   "execution_count": 2,
   "metadata": {},
   "outputs": [],
   "source": [
    "# vamos usar uma lista para representar o individuo\n",
    "# a quantidade de elementos de uma lista é a quantidade de genes.\n",
    "# cada gene varia apenas de 0 ou 1 (aleatoriamente).\n",
    "\n",
    "def gene_cb():\n",
    "    \"\"\"Gera um gene valido para um indivíduo\n",
    "    Return: \n",
    "        Um valor entre 0 ou 1.\"\"\"\n",
    "    genes = [0,1]\n",
    "    gene = choice(genes)\n",
    "    return(gene)\n",
    "    \n",
    "def indivíduo_cb(n):\n",
    "    \"\"\"Gera um indivíduo para o problema das caixas binarias.\n",
    "    \n",
    "    Args:\n",
    "        n: número de genes do indivíduo.\n",
    "    Return:\n",
    "        Uma lista com n genes. Cada gene é um valor zero ou um.\n",
    "        \"\"\"\n",
    "    indivíduo = [gene_cb() for i in range(n)]\n",
    "    return indivíduo\n",
    "\n",
    "def função_objetivo_cb(indivíduo):\n",
    "    \"\"\"Computa a função objetivo para um indivíduo\n",
    "    Args:\n",
    "        Indivíduo: lista contendo todos os genes das caixas binarias.\n",
    "    Return:\n",
    "        Um valor representando a soma dos genes do indivíduo.\"\"\"\n",
    "    return sum(indivíduo)"
   ]
  },
  {
   "cell_type": "code",
   "execution_count": 3,
   "metadata": {},
   "outputs": [],
   "source": [
    "# constantes\n",
    "NUM_CANDIDATOS = 8\n",
    "NUM_GENES = 4"
   ]
  },
  {
   "cell_type": "code",
   "execution_count": 4,
   "metadata": {},
   "outputs": [
    {
     "name": "stdout",
     "output_type": "stream",
     "text": [
      "[1, 1, 0, 0] 2\n",
      "[1, 1, 1, 0] 3\n",
      "[0, 0, 1, 0] 1\n",
      "[1, 1, 0, 1] 3\n",
      "[1, 1, 0, 1] 3\n",
      "[0, 0, 1, 1] 2\n",
      "[0, 1, 1, 1] 3\n",
      "[1, 1, 1, 0] 3\n"
     ]
    }
   ],
   "source": [
    "for n in range(NUM_CANDIDATOS):\n",
    "    candidato = indivíduo_cb(NUM_GENES)\n",
    "    fobj = função_objetivo_cb(candidato)\n",
    "    print(candidato, fobj)"
   ]
  },
  {
   "cell_type": "markdown",
   "metadata": {},
   "source": [
    "## Conclusão\n",
    "\n"
   ]
  },
  {
   "cell_type": "markdown",
   "metadata": {},
   "source": [
    "O objetivo do código era referente ao encontro do problema das caixas binárias, a solução foi encontrada e foi possível observar o padrão probabilístico do algor, apesar de não ser utilizado o processo mais automatizado. No final foi obtido o resultado esperado através do algoritimo, sendo possível observar a natureza probabilistica deste algoritimo, ja que se trata de um conceito de aleatoriedade "
   ]
  },
  {
   "cell_type": "markdown",
   "metadata": {},
   "source": [
    "### Reflexões\n",
    "<p align=\"justify\"> 1. Você diria que o algoritmo de busca aleatória é determinístico ou probabilístico? </p>\n",
    "<p align=\"justify\">  Probabilistico, visto que a sua ferramenta é a aleatoriedade. </p>\n",
    "\n",
    "<hr>\n",
    "<p align=\"justify\"> 2. Em quais problemas de otimização você acredita que este algoritmo seja uma boa escolha? </p>\n",
    "<p align=\"justify\">  Esse problema de otimização é bom em algoritmos que inicialmente, não necessitam de tanta velocidade para a execução. Ele é muito bom para identificação de espaços amostrais e comportamento do algoritmo de modo a se ter uma noção dos seus padrões de comportamento. </p>\n",
    "\n",
    "<hr>\n",
    "<p align=\"justify\"> 3. Em quais problemas de otimização você acredita que este algoritmo seja uma má escolha? </p>\n",
    "<p align=\"justify\"> Problemas simples de rápida resolução ou conhecimento do padrão de comportamento do algoritmo.  </p>\n",
    "\n"
   ]
  },
  {
   "cell_type": "markdown",
   "metadata": {},
   "source": [
    "## Playground\n",
    "\n"
   ]
  },
  {
   "cell_type": "code",
   "execution_count": 5,
   "metadata": {},
   "outputs": [
    {
     "name": "stdout",
     "output_type": "stream",
     "text": [
      "Obrigada pela aula, Dani!\n"
     ]
    }
   ],
   "source": [
    "print(\"Obrigada pela aula, Dani!\")"
   ]
  }
 ],
 "metadata": {
  "kernelspec": {
   "display_name": "ilumpy",
   "language": "python",
   "name": "ilumpy"
  },
  "language_info": {
   "codemirror_mode": {
    "name": "ipython",
    "version": 3
   },
   "file_extension": ".py",
   "mimetype": "text/x-python",
   "name": "python",
   "nbconvert_exporter": "python",
   "pygments_lexer": "ipython3",
   "version": "3.9.7"
  },
  "org": null
 },
 "nbformat": 4,
 "nbformat_minor": 4
}
