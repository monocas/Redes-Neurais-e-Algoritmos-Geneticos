{
 "cells": [
  {
   "cell_type": "markdown",
   "metadata": {},
   "source": [
    "Construindo um grafo automaticamente\n",
    "====================================\n",
    "\n"
   ]
  },
  {
   "cell_type": "markdown",
   "metadata": {},
   "source": [
    "## Introdução\n",
    "\n"
   ]
  },
  {
   "cell_type": "markdown",
   "metadata": {},
   "source": [
    "Neste notebook nós vamos dar o primeiro passo para construir nossa rede neural artificial. Neste primeiro passo, nós vamos criar uma classe que gera automaticamente o nosso `grafo computacional`. O grafo computacional é o grafo que representa todas as operações matemáticas que ocorreram ao se computar um certo valor $y$. O grafo computacional é um passo necessário pois será baseado nele que iremos computar os gradientes locais necessários para realizar o `backpropagation`.\n",
    "\n"
   ]
  },
  {
   "cell_type": "markdown",
   "metadata": {},
   "source": [
    "## Importações\n",
    "\n"
   ]
  },
  {
   "cell_type": "code",
   "execution_count": 1,
   "metadata": {},
   "outputs": [],
   "source": [
    "from funcoes import plota_grafo"
   ]
  },
  {
   "cell_type": "markdown",
   "metadata": {},
   "source": [
    "## Código e discussão\n",
    "\n"
   ]
  },
  {
   "cell_type": "markdown",
   "metadata": {},
   "source": [
    "### Primeiros passos\n",
    "\n"
   ]
  },
  {
   "cell_type": "markdown",
   "metadata": {},
   "source": [
    "A base de tudo será uma classe chamada `Valor`. Vamos começar pelo básico!\n",
    "\n"
   ]
  },
  {
   "cell_type": "code",
   "execution_count": 2,
   "metadata": {},
   "outputs": [],
   "source": [
    "class Valor:\n",
    "    def __init__(self, data):\n",
    "        self.data = data\n",
    "\n",
    "    def __repr__(self):\n",
    "        return f\"Valor(data={self.data})\""
   ]
  },
  {
   "cell_type": "markdown",
   "metadata": {},
   "source": [
    "Vamos testar nossa classe!\n",
    "\n"
   ]
  },
  {
   "cell_type": "code",
   "execution_count": 3,
   "metadata": {},
   "outputs": [
    {
     "name": "stdout",
     "output_type": "stream",
     "text": [
      "Valor(data=60)\n",
      "60\n"
     ]
    }
   ],
   "source": [
    "x1 = Valor(60)\n",
    "print(x1)\n",
    "print(x1.data)"
   ]
  },
  {
   "cell_type": "markdown",
   "metadata": {},
   "source": [
    "### Os dunders `__add__` e `__mul__`\n",
    "\n"
   ]
  },
  {
   "cell_type": "markdown",
   "metadata": {},
   "source": [
    "Observe que não conseguimos adicionar nem multiplicar objetos criados com a classe `Valor`.\n",
    "\n"
   ]
  },
  {
   "cell_type": "code",
   "execution_count": 4,
   "metadata": {},
   "outputs": [],
   "source": [
    "a = Valor(10)\n",
    "b = Valor(5)"
   ]
  },
  {
   "cell_type": "code",
   "execution_count": 7,
   "metadata": {},
   "outputs": [],
   "source": [
    "# print(a + b)"
   ]
  },
  {
   "cell_type": "code",
   "execution_count": 8,
   "metadata": {},
   "outputs": [],
   "source": [
    "# print(a * b)"
   ]
  },
  {
   "cell_type": "markdown",
   "metadata": {},
   "source": [
    "Ué&#x2026; porque não conseguimos? Não conseguimos pois o Python (ainda) não é vidente. Ele lá vai saber como adicionar ou multiplicar algo que você criou? Pra você parece óbvio que valores podem ser adicionados ou multiplicados, mas para o Python ele nem sabe o que significa a palavra `Valor`&#x2026;\n",
    "\n",
    "Como sempre, temos que contar para o programa o que queremos que aconteça quando usarmos os operadores `+` e `*`. Quem faz isso são os dunders `__add__` e `__mul__`.\n",
    "\n"
   ]
  },
  {
   "cell_type": "code",
   "execution_count": 9,
   "metadata": {},
   "outputs": [],
   "source": [
    "class Valor:\n",
    "    def __init__(self, data):\n",
    "        self.data = data\n",
    "\n",
    "    def __repr__(self):\n",
    "        return f\"Valor(data={self.data})\"\n",
    "\n",
    "    def __add__(self, outro_valor):\n",
    "        saida = Valor(self.data + outro_valor.data)\n",
    "        return saida\n",
    "\n",
    "    def __mul__(self, outro_valor):\n",
    "        saida = Valor(self.data * outro_valor.data)\n",
    "        return saida"
   ]
  },
  {
   "cell_type": "markdown",
   "metadata": {},
   "source": [
    "Vamos testar!\n",
    "\n"
   ]
  },
  {
   "cell_type": "code",
   "execution_count": 10,
   "metadata": {},
   "outputs": [
    {
     "name": "stdout",
     "output_type": "stream",
     "text": [
      "Valor(data=15)\n",
      "Valor(data=50)\n"
     ]
    }
   ],
   "source": [
    "a = Valor(10)\n",
    "b = Valor(5)\n",
    "\n",
    "print (a + b)\n",
    "print(a * b)"
   ]
  },
  {
   "cell_type": "markdown",
   "metadata": {},
   "source": [
    "### Registrando os progenitores\n",
    "\n"
   ]
  },
  {
   "cell_type": "markdown",
   "metadata": {},
   "source": [
    "Nosso objetivo é construir um grafo computacional. Em um grafo computacional, um certo vértice pode ter um ou mais vértices progenitores (são seus pais/mães). Nós não podemos perder essa informação quando formos construir um grafo, então precisamos incluir essa informação na nossa classe.\n",
    "\n"
   ]
  },
  {
   "cell_type": "code",
   "execution_count": 11,
   "metadata": {},
   "outputs": [],
   "source": [
    "class Valor:\n",
    "    def __init__(self, data, progenitor=()):\n",
    "        self.data = data\n",
    "        self.progenitor = progenitor\n",
    "\n",
    "    def __repr__(self):\n",
    "        return f\"Valor(data={self.data})\"\n",
    "\n",
    "    def __add__(self, outro_valor):\n",
    "        data = self.data + outro_valor.data\n",
    "        progenitor = (self, outro_valor)\n",
    "        saida = Valor(data, progenitor)\n",
    "        return saida\n",
    "\n",
    "    def __mul__(self, outro_valor):\n",
    "        data = self.data * outro_valor.data\n",
    "        progenitor = (self, outro_valor)\n",
    "        saida = Valor(data, progenitor)\n",
    "        return saida"
   ]
  },
  {
   "cell_type": "markdown",
   "metadata": {},
   "source": [
    "Vamos testar!\n",
    "\n"
   ]
  },
  {
   "cell_type": "code",
   "execution_count": 12,
   "metadata": {},
   "outputs": [
    {
     "name": "stdout",
     "output_type": "stream",
     "text": [
      "10\n",
      "()\n",
      "Valor(data=15)\n",
      "Valor(data=10)\n",
      "(Valor(data=15), Valor(data=10))\n"
     ]
    }
   ],
   "source": [
    "a = Valor(10)\n",
    "b = Valor(5)\n",
    "\n",
    "print(a.data)\n",
    "print(a.progenitor)\n",
    "\n",
    "c = a + b\n",
    "d = c * a\n",
    "\n",
    "print(c)\n",
    "print(a)\n",
    "print(d.progenitor)"
   ]
  },
  {
   "cell_type": "markdown",
   "metadata": {},
   "source": [
    "### Registrando o operador mãe\n",
    "\n"
   ]
  },
  {
   "cell_type": "markdown",
   "metadata": {},
   "source": [
    "Em um grafo computacional, um vértice pode ter um operador mãe. O operador mãe é o operador que foi usado para gerar o vértice.\n",
    "\n"
   ]
  },
  {
   "cell_type": "code",
   "execution_count": 13,
   "metadata": {},
   "outputs": [],
   "source": [
    "class Valor:\n",
    "    def __init__(self, data, progenitor=(), operador_mae=\"\"):\n",
    "        self.data = data\n",
    "        self.progenitor = progenitor\n",
    "        self.operador_mae = operador_mae\n",
    "\n",
    "    def __repr__(self):\n",
    "        return f\"Valor(data={self.data})\"\n",
    "\n",
    "    def __add__(self, outro_valor):\n",
    "        data = self.data + outro_valor.data\n",
    "        progenitor = (self, outro_valor)\n",
    "        operador_mae = \"+\"\n",
    "        saida = Valor(data, progenitor, operador_mae)\n",
    "        return saida\n",
    "\n",
    "    def __mul__(self, outro_valor):\n",
    "        data = self.data * outro_valor.data\n",
    "        progenitor = (self, outro_valor)\n",
    "        operador_mae = \"*\"\n",
    "        saida = Valor(data, progenitor, operador_mae)\n",
    "        return saida"
   ]
  },
  {
   "cell_type": "markdown",
   "metadata": {},
   "source": [
    "Vamos testar!\n",
    "\n"
   ]
  },
  {
   "cell_type": "code",
   "execution_count": 14,
   "metadata": {},
   "outputs": [
    {
     "name": "stdout",
     "output_type": "stream",
     "text": [
      "Valor(data=15)\n",
      "(Valor(data=10), Valor(data=5))\n",
      "+\n"
     ]
    }
   ],
   "source": [
    "a = Valor(10)\n",
    "b = Valor(5)\n",
    "\n",
    "c = a + b\n",
    "d = c * a\n",
    "\n",
    "print(c)\n",
    "print(c.progenitor)\n",
    "print(c.operador_mae)"
   ]
  },
  {
   "cell_type": "markdown",
   "metadata": {},
   "source": [
    "### Plotando o primeiro grafo\n",
    "\n"
   ]
  },
  {
   "cell_type": "markdown",
   "metadata": {},
   "source": [
    "Vamos plotar nosso primeiro grafo!\n",
    "\n"
   ]
  },
  {
   "cell_type": "code",
   "execution_count": 15,
   "metadata": {},
   "outputs": [
    {
     "data": {
      "image/svg+xml": [
       "<?xml version=\"1.0\" encoding=\"UTF-8\" standalone=\"no\"?>\n",
       "<!DOCTYPE svg PUBLIC \"-//W3C//DTD SVG 1.1//EN\"\n",
       " \"http://www.w3.org/Graphics/SVG/1.1/DTD/svg11.dtd\">\n",
       "<!-- Generated by graphviz version 6.0.2 (20221011.1828)\n",
       " -->\n",
       "<!-- Pages: 1 -->\n",
       "<svg width=\"515pt\" height=\"128pt\"\n",
       " viewBox=\"0.00 0.00 515.00 128.00\" xmlns=\"http://www.w3.org/2000/svg\" xmlns:xlink=\"http://www.w3.org/1999/xlink\">\n",
       "<g id=\"graph0\" class=\"graph\" transform=\"scale(1 1) rotate(0) translate(4 124)\">\n",
       "<polygon fill=\"white\" stroke=\"none\" points=\"-4,4 -4,-124 511,-124 511,4 -4,4\"/>\n",
       "<!-- 2936492051616 -->\n",
       "<g id=\"node1\" class=\"node\">\n",
       "<title>2936492051616</title>\n",
       "<polygon fill=\"none\" stroke=\"black\" points=\"0,-83.5 0,-119.5 86,-119.5 86,-83.5 0,-83.5\"/>\n",
       "<text text-anchor=\"middle\" x=\"43\" y=\"-97.8\" font-family=\"Times New Roman,serif\" font-size=\"14.00\">data &#45;3.0000</text>\n",
       "</g>\n",
       "<!-- 2936492049216* -->\n",
       "<g id=\"node4\" class=\"node\">\n",
       "<title>2936492049216*</title>\n",
       "<ellipse fill=\"none\" stroke=\"black\" cx=\"149\" cy=\"-73.5\" rx=\"27\" ry=\"18\"/>\n",
       "<text text-anchor=\"middle\" x=\"149\" y=\"-69.8\" font-family=\"Times New Roman,serif\" font-size=\"14.00\">*</text>\n",
       "</g>\n",
       "<!-- 2936492051616&#45;&gt;2936492049216* -->\n",
       "<g id=\"edge3\" class=\"edge\">\n",
       "<title>2936492051616&#45;&gt;2936492049216*</title>\n",
       "<path fill=\"none\" stroke=\"black\" d=\"M86,-90.19C95.34,-87.68 105.13,-85.04 114.09,-82.63\"/>\n",
       "<polygon fill=\"black\" stroke=\"black\" points=\"115.05,-86 123.8,-80.02 113.23,-79.24 115.05,-86\"/>\n",
       "</g>\n",
       "<!-- 2936492050608 -->\n",
       "<g id=\"node2\" class=\"node\">\n",
       "<title>2936492050608</title>\n",
       "<polygon fill=\"none\" stroke=\"black\" points=\"212,-0.5 212,-36.5 300,-36.5 300,-0.5 212,-0.5\"/>\n",
       "<text text-anchor=\"middle\" x=\"256\" y=\"-14.8\" font-family=\"Times New Roman,serif\" font-size=\"14.00\">data 10.0000</text>\n",
       "</g>\n",
       "<!-- 2936492050896+ -->\n",
       "<g id=\"node6\" class=\"node\">\n",
       "<title>2936492050896+</title>\n",
       "<ellipse fill=\"none\" stroke=\"black\" cx=\"363\" cy=\"-45.5\" rx=\"27\" ry=\"18\"/>\n",
       "<text text-anchor=\"middle\" x=\"363\" y=\"-41.8\" font-family=\"Times New Roman,serif\" font-size=\"14.00\">+</text>\n",
       "</g>\n",
       "<!-- 2936492050608&#45;&gt;2936492050896+ -->\n",
       "<g id=\"edge6\" class=\"edge\">\n",
       "<title>2936492050608&#45;&gt;2936492050896+</title>\n",
       "<path fill=\"none\" stroke=\"black\" d=\"M300.01,-29.56C309.21,-31.93 318.81,-34.39 327.63,-36.66\"/>\n",
       "<polygon fill=\"black\" stroke=\"black\" points=\"327.01,-40.12 337.56,-39.22 328.75,-33.34 327.01,-40.12\"/>\n",
       "</g>\n",
       "<!-- 2936492049216 -->\n",
       "<g id=\"node3\" class=\"node\">\n",
       "<title>2936492049216</title>\n",
       "<polygon fill=\"none\" stroke=\"black\" points=\"213,-55.5 213,-91.5 299,-91.5 299,-55.5 213,-55.5\"/>\n",
       "<text text-anchor=\"middle\" x=\"256\" y=\"-69.8\" font-family=\"Times New Roman,serif\" font-size=\"14.00\">data &#45;6.0000</text>\n",
       "</g>\n",
       "<!-- 2936492049216&#45;&gt;2936492050896+ -->\n",
       "<g id=\"edge5\" class=\"edge\">\n",
       "<title>2936492049216&#45;&gt;2936492050896+</title>\n",
       "<path fill=\"none\" stroke=\"black\" d=\"M299.1,-62.27C308.64,-59.73 318.65,-57.06 327.81,-54.62\"/>\n",
       "<polygon fill=\"black\" stroke=\"black\" points=\"328.96,-57.93 337.72,-51.97 327.16,-51.17 328.96,-57.93\"/>\n",
       "</g>\n",
       "<!-- 2936492049216*&#45;&gt;2936492049216 -->\n",
       "<g id=\"edge1\" class=\"edge\">\n",
       "<title>2936492049216*&#45;&gt;2936492049216</title>\n",
       "<path fill=\"none\" stroke=\"black\" d=\"M176.23,-73.5C184.26,-73.5 193.4,-73.5 202.53,-73.5\"/>\n",
       "<polygon fill=\"black\" stroke=\"black\" points=\"202.79,-77 212.79,-73.5 202.79,-70 202.79,-77\"/>\n",
       "</g>\n",
       "<!-- 2936492050896 -->\n",
       "<g id=\"node5\" class=\"node\">\n",
       "<title>2936492050896</title>\n",
       "<polygon fill=\"none\" stroke=\"black\" points=\"426,-27.5 426,-63.5 507,-63.5 507,-27.5 426,-27.5\"/>\n",
       "<text text-anchor=\"middle\" x=\"466.5\" y=\"-41.8\" font-family=\"Times New Roman,serif\" font-size=\"14.00\">data 4.0000</text>\n",
       "</g>\n",
       "<!-- 2936492050896+&#45;&gt;2936492050896 -->\n",
       "<g id=\"edge2\" class=\"edge\">\n",
       "<title>2936492050896+&#45;&gt;2936492050896</title>\n",
       "<path fill=\"none\" stroke=\"black\" d=\"M390.14,-45.5C397.91,-45.5 406.69,-45.5 415.45,-45.5\"/>\n",
       "<polygon fill=\"black\" stroke=\"black\" points=\"415.65,-49 425.65,-45.5 415.65,-42 415.65,-49\"/>\n",
       "</g>\n",
       "<!-- 2936492048880 -->\n",
       "<g id=\"node7\" class=\"node\">\n",
       "<title>2936492048880</title>\n",
       "<polygon fill=\"none\" stroke=\"black\" points=\"2.5,-28.5 2.5,-64.5 83.5,-64.5 83.5,-28.5 2.5,-28.5\"/>\n",
       "<text text-anchor=\"middle\" x=\"43\" y=\"-42.8\" font-family=\"Times New Roman,serif\" font-size=\"14.00\">data 2.0000</text>\n",
       "</g>\n",
       "<!-- 2936492048880&#45;&gt;2936492049216* -->\n",
       "<g id=\"edge4\" class=\"edge\">\n",
       "<title>2936492048880&#45;&gt;2936492049216*</title>\n",
       "<path fill=\"none\" stroke=\"black\" d=\"M83.61,-56.78C93.48,-59.35 103.97,-62.07 113.57,-64.56\"/>\n",
       "<polygon fill=\"black\" stroke=\"black\" points=\"112.99,-68.03 123.55,-67.15 114.75,-61.25 112.99,-68.03\"/>\n",
       "</g>\n",
       "</g>\n",
       "</svg>\n"
      ],
      "text/plain": [
       "<graphviz.graphs.Digraph at 0x2abb490c130>"
      ]
     },
     "execution_count": 15,
     "metadata": {},
     "output_type": "execute_result"
    }
   ],
   "source": [
    "a = Valor(2)\n",
    "b = Valor(-3)\n",
    "c = Valor(10)\n",
    "\n",
    "d = a * b\n",
    "e = d + c\n",
    "\n",
    "plota_grafo(e)"
   ]
  },
  {
   "cell_type": "markdown",
   "metadata": {},
   "source": [
    "### Registrando o rótulo\n",
    "\n"
   ]
  },
  {
   "cell_type": "markdown",
   "metadata": {},
   "source": [
    "Nosso grafo seria mais legível se tivéssemos rótulos indicando o que é cada vértice. Vamos incluir essa informação na nossa classe.\n",
    "\n"
   ]
  },
  {
   "cell_type": "code",
   "execution_count": 16,
   "metadata": {},
   "outputs": [],
   "source": [
    "class Valor:\n",
    "    def __init__(self, data, progenitor=(), operador_mae=\"\", rotulo=\"\"):\n",
    "        self.data = data\n",
    "        self.progenitor = progenitor\n",
    "        self.operador_mae = operador_mae\n",
    "        self.rotulo = rotulo\n",
    "\n",
    "    def __repr__(self):\n",
    "        return f\"Valor(data={self.data})\"\n",
    "\n",
    "    def __add__(self, outro_valor):\n",
    "        data = self.data + outro_valor.data\n",
    "        progenitor = (self, outro_valor)\n",
    "        operador_mae = \"+\"\n",
    "        saida = Valor(data, progenitor, operador_mae)\n",
    "        return saida\n",
    "\n",
    "    def __mul__(self, outro_valor):\n",
    "        data = self.data * outro_valor.data\n",
    "        progenitor = (self, outro_valor)\n",
    "        operador_mae = \"*\"\n",
    "        saida = Valor(data, progenitor, operador_mae)\n",
    "        return saida"
   ]
  },
  {
   "cell_type": "markdown",
   "metadata": {},
   "source": [
    "Vamos testar!\n",
    "\n"
   ]
  },
  {
   "cell_type": "code",
   "execution_count": 17,
   "metadata": {},
   "outputs": [
    {
     "data": {
      "image/svg+xml": [
       "<?xml version=\"1.0\" encoding=\"UTF-8\" standalone=\"no\"?>\n",
       "<!DOCTYPE svg PUBLIC \"-//W3C//DTD SVG 1.1//EN\"\n",
       " \"http://www.w3.org/Graphics/SVG/1.1/DTD/svg11.dtd\">\n",
       "<!-- Generated by graphviz version 6.0.2 (20221011.1828)\n",
       " -->\n",
       "<!-- Pages: 1 -->\n",
       "<svg width=\"585pt\" height=\"127pt\"\n",
       " viewBox=\"0.00 0.00 585.00 127.00\" xmlns=\"http://www.w3.org/2000/svg\" xmlns:xlink=\"http://www.w3.org/1999/xlink\">\n",
       "<g id=\"graph0\" class=\"graph\" transform=\"scale(1 1) rotate(0) translate(4 123)\">\n",
       "<polygon fill=\"white\" stroke=\"none\" points=\"-4,4 -4,-123 581,-123 581,4 -4,4\"/>\n",
       "<!-- 2936491344032 -->\n",
       "<g id=\"node1\" class=\"node\">\n",
       "<title>2936491344032</title>\n",
       "<polygon fill=\"none\" stroke=\"black\" points=\"236,-82.5 236,-118.5 347,-118.5 347,-82.5 236,-82.5\"/>\n",
       "<text text-anchor=\"middle\" x=\"247.5\" y=\"-96.8\" font-family=\"Times New Roman,serif\" font-size=\"14.00\">c</text>\n",
       "<polyline fill=\"none\" stroke=\"black\" points=\"259,-82.5 259,-118.5\"/>\n",
       "<text text-anchor=\"middle\" x=\"303\" y=\"-96.8\" font-family=\"Times New Roman,serif\" font-size=\"14.00\">data 10.0000</text>\n",
       "</g>\n",
       "<!-- 2936491347920+ -->\n",
       "<g id=\"node4\" class=\"node\">\n",
       "<title>2936491347920+</title>\n",
       "<ellipse fill=\"none\" stroke=\"black\" cx=\"410\" cy=\"-72.5\" rx=\"27\" ry=\"18\"/>\n",
       "<text text-anchor=\"middle\" x=\"410\" y=\"-68.8\" font-family=\"Times New Roman,serif\" font-size=\"14.00\">+</text>\n",
       "</g>\n",
       "<!-- 2936491344032&#45;&gt;2936491347920+ -->\n",
       "<g id=\"edge6\" class=\"edge\">\n",
       "<title>2936491344032&#45;&gt;2936491347920+</title>\n",
       "<path fill=\"none\" stroke=\"black\" d=\"M347.34,-87.32C356.57,-85.1 365.91,-82.86 374.44,-80.81\"/>\n",
       "<polygon fill=\"black\" stroke=\"black\" points=\"375.47,-84.16 384.38,-78.42 373.84,-77.35 375.47,-84.16\"/>\n",
       "</g>\n",
       "<!-- 2936491321232 -->\n",
       "<g id=\"node2\" class=\"node\">\n",
       "<title>2936491321232</title>\n",
       "<polygon fill=\"none\" stroke=\"black\" points=\"0,-55.5 0,-91.5 110,-91.5 110,-55.5 0,-55.5\"/>\n",
       "<text text-anchor=\"middle\" x=\"12\" y=\"-69.8\" font-family=\"Times New Roman,serif\" font-size=\"14.00\">b</text>\n",
       "<polyline fill=\"none\" stroke=\"black\" points=\"24,-55.5 24,-91.5\"/>\n",
       "<text text-anchor=\"middle\" x=\"67\" y=\"-69.8\" font-family=\"Times New Roman,serif\" font-size=\"14.00\">data &#45;3.0000</text>\n",
       "</g>\n",
       "<!-- 2936491347440* -->\n",
       "<g id=\"node7\" class=\"node\">\n",
       "<title>2936491347440*</title>\n",
       "<ellipse fill=\"none\" stroke=\"black\" cx=\"173\" cy=\"-45.5\" rx=\"27\" ry=\"18\"/>\n",
       "<text text-anchor=\"middle\" x=\"173\" y=\"-41.8\" font-family=\"Times New Roman,serif\" font-size=\"14.00\">*</text>\n",
       "</g>\n",
       "<!-- 2936491321232&#45;&gt;2936491347440* -->\n",
       "<g id=\"edge3\" class=\"edge\">\n",
       "<title>2936491321232&#45;&gt;2936491347440*</title>\n",
       "<path fill=\"none\" stroke=\"black\" d=\"M110.26,-60.4C119.49,-58.18 128.84,-55.92 137.37,-53.86\"/>\n",
       "<polygon fill=\"black\" stroke=\"black\" points=\"138.42,-57.21 147.32,-51.46 136.78,-50.4 138.42,-57.21\"/>\n",
       "</g>\n",
       "<!-- 2936491347920 -->\n",
       "<g id=\"node3\" class=\"node\">\n",
       "<title>2936491347920</title>\n",
       "<polygon fill=\"none\" stroke=\"black\" points=\"473,-54.5 473,-90.5 577,-90.5 577,-54.5 473,-54.5\"/>\n",
       "<text text-anchor=\"middle\" x=\"484.5\" y=\"-68.8\" font-family=\"Times New Roman,serif\" font-size=\"14.00\">e</text>\n",
       "<polyline fill=\"none\" stroke=\"black\" points=\"496,-54.5 496,-90.5\"/>\n",
       "<text text-anchor=\"middle\" x=\"536.5\" y=\"-68.8\" font-family=\"Times New Roman,serif\" font-size=\"14.00\">data 4.0000</text>\n",
       "</g>\n",
       "<!-- 2936491347920+&#45;&gt;2936491347920 -->\n",
       "<g id=\"edge1\" class=\"edge\">\n",
       "<title>2936491347920+&#45;&gt;2936491347920</title>\n",
       "<path fill=\"none\" stroke=\"black\" d=\"M437.21,-72.5C444.88,-72.5 453.62,-72.5 462.51,-72.5\"/>\n",
       "<polygon fill=\"black\" stroke=\"black\" points=\"462.58,-76 472.58,-72.5 462.58,-69 462.58,-76\"/>\n",
       "</g>\n",
       "<!-- 2936491322336 -->\n",
       "<g id=\"node5\" class=\"node\">\n",
       "<title>2936491322336</title>\n",
       "<polygon fill=\"none\" stroke=\"black\" points=\"3,-0.5 3,-36.5 107,-36.5 107,-0.5 3,-0.5\"/>\n",
       "<text text-anchor=\"middle\" x=\"14.5\" y=\"-14.8\" font-family=\"Times New Roman,serif\" font-size=\"14.00\">a</text>\n",
       "<polyline fill=\"none\" stroke=\"black\" points=\"26,-0.5 26,-36.5\"/>\n",
       "<text text-anchor=\"middle\" x=\"66.5\" y=\"-14.8\" font-family=\"Times New Roman,serif\" font-size=\"14.00\">data 2.0000</text>\n",
       "</g>\n",
       "<!-- 2936491322336&#45;&gt;2936491347440* -->\n",
       "<g id=\"edge4\" class=\"edge\">\n",
       "<title>2936491322336&#45;&gt;2936491347440*</title>\n",
       "<path fill=\"none\" stroke=\"black\" d=\"M107.22,-30.42C117.47,-32.81 128.01,-35.26 137.53,-37.48\"/>\n",
       "<polygon fill=\"black\" stroke=\"black\" points=\"136.86,-40.91 147.39,-39.77 138.45,-34.1 136.86,-40.91\"/>\n",
       "</g>\n",
       "<!-- 2936491347440 -->\n",
       "<g id=\"node6\" class=\"node\">\n",
       "<title>2936491347440</title>\n",
       "<polygon fill=\"none\" stroke=\"black\" points=\"236.5,-27.5 236.5,-63.5 346.5,-63.5 346.5,-27.5 236.5,-27.5\"/>\n",
       "<text text-anchor=\"middle\" x=\"248.5\" y=\"-41.8\" font-family=\"Times New Roman,serif\" font-size=\"14.00\">d</text>\n",
       "<polyline fill=\"none\" stroke=\"black\" points=\"260.5,-27.5 260.5,-63.5\"/>\n",
       "<text text-anchor=\"middle\" x=\"303.5\" y=\"-41.8\" font-family=\"Times New Roman,serif\" font-size=\"14.00\">data &#45;6.0000</text>\n",
       "</g>\n",
       "<!-- 2936491347440&#45;&gt;2936491347920+ -->\n",
       "<g id=\"edge5\" class=\"edge\">\n",
       "<title>2936491347440&#45;&gt;2936491347920+</title>\n",
       "<path fill=\"none\" stroke=\"black\" d=\"M346.66,-58.05C356.14,-60.25 365.77,-62.48 374.53,-64.51\"/>\n",
       "<polygon fill=\"black\" stroke=\"black\" points=\"373.82,-67.94 384.35,-66.79 375.4,-61.12 373.82,-67.94\"/>\n",
       "</g>\n",
       "<!-- 2936491347440*&#45;&gt;2936491347440 -->\n",
       "<g id=\"edge2\" class=\"edge\">\n",
       "<title>2936491347440*&#45;&gt;2936491347440</title>\n",
       "<path fill=\"none\" stroke=\"black\" d=\"M200.14,-45.5C208.03,-45.5 217.05,-45.5 226.28,-45.5\"/>\n",
       "<polygon fill=\"black\" stroke=\"black\" points=\"226.32,-49 236.32,-45.5 226.32,-42 226.32,-49\"/>\n",
       "</g>\n",
       "</g>\n",
       "</svg>\n"
      ],
      "text/plain": [
       "<graphviz.graphs.Digraph at 0x2abb4860cd0>"
      ]
     },
     "execution_count": 17,
     "metadata": {},
     "output_type": "execute_result"
    }
   ],
   "source": [
    "a = Valor(2, rotulo=\"a\")\n",
    "b = Valor(-3, rotulo=\"b\")\n",
    "c = Valor(10, rotulo=\"c\")\n",
    "\n",
    "d = a * b\n",
    "e = d + c\n",
    "\n",
    "d.rotulo = \"d\"\n",
    "e.rotulo = \"e\"\n",
    "\n",
    "plota_grafo(e)"
   ]
  },
  {
   "cell_type": "markdown",
   "metadata": {},
   "source": [
    "### Refazendo o grafo que fizemos na aula anterior\n",
    "\n"
   ]
  },
  {
   "cell_type": "markdown",
   "metadata": {},
   "source": [
    "Na aula anterior nós fizemos um grafo computacional para aprender como funciona o backpropagation. Vamos refazer ele aqui!\n",
    "\n"
   ]
  },
  {
   "cell_type": "code",
   "execution_count": 18,
   "metadata": {},
   "outputs": [
    {
     "data": {
      "image/svg+xml": [
       "<?xml version=\"1.0\" encoding=\"UTF-8\" standalone=\"no\"?>\n",
       "<!DOCTYPE svg PUBLIC \"-//W3C//DTD SVG 1.1//EN\"\n",
       " \"http://www.w3.org/Graphics/SVG/1.1/DTD/svg11.dtd\">\n",
       "<!-- Generated by graphviz version 6.0.2 (20221011.1828)\n",
       " -->\n",
       "<!-- Pages: 1 -->\n",
       "<svg width=\"1117pt\" height=\"211pt\"\n",
       " viewBox=\"0.00 0.00 1117.00 211.00\" xmlns=\"http://www.w3.org/2000/svg\" xmlns:xlink=\"http://www.w3.org/1999/xlink\">\n",
       "<g id=\"graph0\" class=\"graph\" transform=\"scale(1 1) rotate(0) translate(4 207)\">\n",
       "<polygon fill=\"white\" stroke=\"none\" points=\"-4,4 -4,-207 1113,-207 1113,4 -4,4\"/>\n",
       "<!-- 2936492051472 -->\n",
       "<g id=\"node1\" class=\"node\">\n",
       "<title>2936492051472</title>\n",
       "<polygon fill=\"none\" stroke=\"black\" points=\"3.5,-166.5 3.5,-202.5 117.5,-202.5 117.5,-166.5 3.5,-166.5\"/>\n",
       "<text text-anchor=\"middle\" x=\"20\" y=\"-180.8\" font-family=\"Times New Roman,serif\" font-size=\"14.00\">w2</text>\n",
       "<polyline fill=\"none\" stroke=\"black\" points=\"36.5,-166.5 36.5,-202.5\"/>\n",
       "<text text-anchor=\"middle\" x=\"77\" y=\"-180.8\" font-family=\"Times New Roman,serif\" font-size=\"14.00\">data 5.0000</text>\n",
       "</g>\n",
       "<!-- 2936492051424* -->\n",
       "<g id=\"node14\" class=\"node\">\n",
       "<title>2936492051424*</title>\n",
       "<ellipse fill=\"none\" stroke=\"black\" cx=\"184\" cy=\"-129.5\" rx=\"27\" ry=\"18\"/>\n",
       "<text text-anchor=\"middle\" x=\"184\" y=\"-125.8\" font-family=\"Times New Roman,serif\" font-size=\"14.00\">*</text>\n",
       "</g>\n",
       "<!-- 2936492051472&#45;&gt;2936492051424* -->\n",
       "<g id=\"edge12\" class=\"edge\">\n",
       "<title>2936492051472&#45;&gt;2936492051424*</title>\n",
       "<path fill=\"none\" stroke=\"black\" d=\"M101.28,-166.49C117.79,-159.02 136.65,-150.48 152.09,-143.49\"/>\n",
       "<polygon fill=\"black\" stroke=\"black\" points=\"153.54,-146.68 161.21,-139.36 150.65,-140.3 153.54,-146.68\"/>\n",
       "</g>\n",
       "<!-- 2936492052000 -->\n",
       "<g id=\"node2\" class=\"node\">\n",
       "<title>2936492052000</title>\n",
       "<polygon fill=\"none\" stroke=\"black\" points=\"247,-56.5 247,-92.5 371,-92.5 371,-56.5 247,-56.5\"/>\n",
       "<text text-anchor=\"middle\" x=\"261.5\" y=\"-70.8\" font-family=\"Times New Roman,serif\" font-size=\"14.00\">s1</text>\n",
       "<polyline fill=\"none\" stroke=\"black\" points=\"276,-56.5 276,-92.5\"/>\n",
       "<text text-anchor=\"middle\" x=\"323.5\" y=\"-70.8\" font-family=\"Times New Roman,serif\" font-size=\"14.00\">data 600.0000</text>\n",
       "</g>\n",
       "<!-- 2936492050416+ -->\n",
       "<g id=\"node16\" class=\"node\">\n",
       "<title>2936492050416+</title>\n",
       "<ellipse fill=\"none\" stroke=\"black\" cx=\"434\" cy=\"-101.5\" rx=\"27\" ry=\"18\"/>\n",
       "<text text-anchor=\"middle\" x=\"434\" y=\"-97.8\" font-family=\"Times New Roman,serif\" font-size=\"14.00\">+</text>\n",
       "</g>\n",
       "<!-- 2936492052000&#45;&gt;2936492050416+ -->\n",
       "<g id=\"edge11\" class=\"edge\">\n",
       "<title>2936492052000&#45;&gt;2936492050416+</title>\n",
       "<path fill=\"none\" stroke=\"black\" d=\"M371.14,-87.92C380.48,-89.97 389.84,-92.03 398.34,-93.89\"/>\n",
       "<polygon fill=\"black\" stroke=\"black\" points=\"397.72,-97.34 408.24,-96.06 399.22,-90.5 397.72,-97.34\"/>\n",
       "</g>\n",
       "<!-- 2936492052000* -->\n",
       "<g id=\"node3\" class=\"node\">\n",
       "<title>2936492052000*</title>\n",
       "<ellipse fill=\"none\" stroke=\"black\" cx=\"184\" cy=\"-74.5\" rx=\"27\" ry=\"18\"/>\n",
       "<text text-anchor=\"middle\" x=\"184\" y=\"-70.8\" font-family=\"Times New Roman,serif\" font-size=\"14.00\">*</text>\n",
       "</g>\n",
       "<!-- 2936492052000*&#45;&gt;2936492052000 -->\n",
       "<g id=\"edge1\" class=\"edge\">\n",
       "<title>2936492052000*&#45;&gt;2936492052000</title>\n",
       "<path fill=\"none\" stroke=\"black\" d=\"M211.09,-74.5C218.72,-74.5 227.46,-74.5 236.49,-74.5\"/>\n",
       "<polygon fill=\"black\" stroke=\"black\" points=\"236.78,-78 246.78,-74.5 236.78,-71 236.78,-78\"/>\n",
       "</g>\n",
       "<!-- 2936490721344 -->\n",
       "<g id=\"node4\" class=\"node\">\n",
       "<title>2936490721344</title>\n",
       "<polygon fill=\"none\" stroke=\"black\" points=\"1.5,-111.5 1.5,-147.5 119.5,-147.5 119.5,-111.5 1.5,-111.5\"/>\n",
       "<text text-anchor=\"middle\" x=\"16.5\" y=\"-125.8\" font-family=\"Times New Roman,serif\" font-size=\"14.00\">x2</text>\n",
       "<polyline fill=\"none\" stroke=\"black\" points=\"31.5,-111.5 31.5,-147.5\"/>\n",
       "<text text-anchor=\"middle\" x=\"75.5\" y=\"-125.8\" font-family=\"Times New Roman,serif\" font-size=\"14.00\">data 24.0000</text>\n",
       "</g>\n",
       "<!-- 2936490721344&#45;&gt;2936492051424* -->\n",
       "<g id=\"edge9\" class=\"edge\">\n",
       "<title>2936490721344&#45;&gt;2936492051424*</title>\n",
       "<path fill=\"none\" stroke=\"black\" d=\"M119.76,-129.5C128.92,-129.5 138.16,-129.5 146.64,-129.5\"/>\n",
       "<polygon fill=\"black\" stroke=\"black\" points=\"146.91,-133 156.91,-129.5 146.91,-126 146.91,-133\"/>\n",
       "</g>\n",
       "<!-- 2936492146800 -->\n",
       "<g id=\"node5\" class=\"node\">\n",
       "<title>2936492146800</title>\n",
       "<polygon fill=\"none\" stroke=\"black\" points=\"1.5,-56.5 1.5,-92.5 119.5,-92.5 119.5,-56.5 1.5,-56.5\"/>\n",
       "<text text-anchor=\"middle\" x=\"16.5\" y=\"-70.8\" font-family=\"Times New Roman,serif\" font-size=\"14.00\">x1</text>\n",
       "<polyline fill=\"none\" stroke=\"black\" points=\"31.5,-56.5 31.5,-92.5\"/>\n",
       "<text text-anchor=\"middle\" x=\"75.5\" y=\"-70.8\" font-family=\"Times New Roman,serif\" font-size=\"14.00\">data 60.0000</text>\n",
       "</g>\n",
       "<!-- 2936492146800&#45;&gt;2936492052000* -->\n",
       "<g id=\"edge14\" class=\"edge\">\n",
       "<title>2936492146800&#45;&gt;2936492052000*</title>\n",
       "<path fill=\"none\" stroke=\"black\" d=\"M119.76,-74.5C128.92,-74.5 138.16,-74.5 146.64,-74.5\"/>\n",
       "<polygon fill=\"black\" stroke=\"black\" points=\"146.91,-78 156.91,-74.5 146.91,-71 146.91,-78\"/>\n",
       "</g>\n",
       "<!-- 2936492052096 -->\n",
       "<g id=\"node6\" class=\"node\">\n",
       "<title>2936492052096</title>\n",
       "<polygon fill=\"none\" stroke=\"black\" points=\"741,-55.5 741,-91.5 859,-91.5 859,-55.5 741,-55.5\"/>\n",
       "<text text-anchor=\"middle\" x=\"752.5\" y=\"-69.8\" font-family=\"Times New Roman,serif\" font-size=\"14.00\">k</text>\n",
       "<polyline fill=\"none\" stroke=\"black\" points=\"764,-55.5 764,-91.5\"/>\n",
       "<text text-anchor=\"middle\" x=\"811.5\" y=\"-69.8\" font-family=\"Times New Roman,serif\" font-size=\"14.00\">data 727.0000</text>\n",
       "</g>\n",
       "<!-- 2936492050800* -->\n",
       "<g id=\"node11\" class=\"node\">\n",
       "<title>2936492050800*</title>\n",
       "<ellipse fill=\"none\" stroke=\"black\" cx=\"922\" cy=\"-45.5\" rx=\"27\" ry=\"18\"/>\n",
       "<text text-anchor=\"middle\" x=\"922\" y=\"-41.8\" font-family=\"Times New Roman,serif\" font-size=\"14.00\">*</text>\n",
       "</g>\n",
       "<!-- 2936492052096&#45;&gt;2936492050800* -->\n",
       "<g id=\"edge6\" class=\"edge\">\n",
       "<title>2936492052096&#45;&gt;2936492050800*</title>\n",
       "<path fill=\"none\" stroke=\"black\" d=\"M859.24,-59.91C868.5,-57.75 877.81,-55.58 886.29,-53.6\"/>\n",
       "<polygon fill=\"black\" stroke=\"black\" points=\"887.23,-56.97 896.17,-51.29 885.64,-50.16 887.23,-56.97\"/>\n",
       "</g>\n",
       "<!-- 2936492052096+ -->\n",
       "<g id=\"node7\" class=\"node\">\n",
       "<title>2936492052096+</title>\n",
       "<ellipse fill=\"none\" stroke=\"black\" cx=\"678\" cy=\"-73.5\" rx=\"27\" ry=\"18\"/>\n",
       "<text text-anchor=\"middle\" x=\"678\" y=\"-69.8\" font-family=\"Times New Roman,serif\" font-size=\"14.00\">+</text>\n",
       "</g>\n",
       "<!-- 2936492052096+&#45;&gt;2936492052096 -->\n",
       "<g id=\"edge2\" class=\"edge\">\n",
       "<title>2936492052096+&#45;&gt;2936492052096</title>\n",
       "<path fill=\"none\" stroke=\"black\" d=\"M705.04,-73.5C712.83,-73.5 721.77,-73.5 730.96,-73.5\"/>\n",
       "<polygon fill=\"black\" stroke=\"black\" points=\"731,-77 741,-73.5 731,-70 731,-77\"/>\n",
       "</g>\n",
       "<!-- 2936490622064 -->\n",
       "<g id=\"node8\" class=\"node\">\n",
       "<title>2936490622064</title>\n",
       "<polygon fill=\"none\" stroke=\"black\" points=\"0,-1.5 0,-37.5 121,-37.5 121,-1.5 0,-1.5\"/>\n",
       "<text text-anchor=\"middle\" x=\"16.5\" y=\"-15.8\" font-family=\"Times New Roman,serif\" font-size=\"14.00\">w1</text>\n",
       "<polyline fill=\"none\" stroke=\"black\" points=\"33,-1.5 33,-37.5\"/>\n",
       "<text text-anchor=\"middle\" x=\"77\" y=\"-15.8\" font-family=\"Times New Roman,serif\" font-size=\"14.00\">data 10.0000</text>\n",
       "</g>\n",
       "<!-- 2936490622064&#45;&gt;2936492052000* -->\n",
       "<g id=\"edge8\" class=\"edge\">\n",
       "<title>2936490622064&#45;&gt;2936492052000*</title>\n",
       "<path fill=\"none\" stroke=\"black\" d=\"M101.28,-37.51C117.79,-44.98 136.65,-53.52 152.09,-60.51\"/>\n",
       "<polygon fill=\"black\" stroke=\"black\" points=\"150.65,-63.7 161.21,-64.64 153.54,-57.32 150.65,-63.7\"/>\n",
       "</g>\n",
       "<!-- 2936492049024 -->\n",
       "<g id=\"node9\" class=\"node\">\n",
       "<title>2936492049024</title>\n",
       "<polygon fill=\"none\" stroke=\"black\" points=\"503.5,-28.5 503.5,-64.5 608.5,-64.5 608.5,-28.5 503.5,-28.5\"/>\n",
       "<text text-anchor=\"middle\" x=\"515.5\" y=\"-42.8\" font-family=\"Times New Roman,serif\" font-size=\"14.00\">b</text>\n",
       "<polyline fill=\"none\" stroke=\"black\" points=\"527.5,-28.5 527.5,-64.5\"/>\n",
       "<text text-anchor=\"middle\" x=\"568\" y=\"-42.8\" font-family=\"Times New Roman,serif\" font-size=\"14.00\">data 7.0000</text>\n",
       "</g>\n",
       "<!-- 2936492049024&#45;&gt;2936492052096+ -->\n",
       "<g id=\"edge15\" class=\"edge\">\n",
       "<title>2936492049024&#45;&gt;2936492052096+</title>\n",
       "<path fill=\"none\" stroke=\"black\" d=\"M608.59,-58.11C619.93,-60.66 631.67,-63.3 642.17,-65.66\"/>\n",
       "<polygon fill=\"black\" stroke=\"black\" points=\"641.66,-69.14 652.18,-67.92 643.19,-62.31 641.66,-69.14\"/>\n",
       "</g>\n",
       "<!-- 2936492050800 -->\n",
       "<g id=\"node10\" class=\"node\">\n",
       "<title>2936492050800</title>\n",
       "<polygon fill=\"none\" stroke=\"black\" points=\"985,-27.5 985,-63.5 1109,-63.5 1109,-27.5 985,-27.5\"/>\n",
       "<text text-anchor=\"middle\" x=\"996.5\" y=\"-41.8\" font-family=\"Times New Roman,serif\" font-size=\"14.00\">y</text>\n",
       "<polyline fill=\"none\" stroke=\"black\" points=\"1008,-27.5 1008,-63.5\"/>\n",
       "<text text-anchor=\"middle\" x=\"1058.5\" y=\"-41.8\" font-family=\"Times New Roman,serif\" font-size=\"14.00\">data 1454.0000</text>\n",
       "</g>\n",
       "<!-- 2936492050800*&#45;&gt;2936492050800 -->\n",
       "<g id=\"edge3\" class=\"edge\">\n",
       "<title>2936492050800*&#45;&gt;2936492050800</title>\n",
       "<path fill=\"none\" stroke=\"black\" d=\"M949.09,-45.5C956.72,-45.5 965.46,-45.5 974.49,-45.5\"/>\n",
       "<polygon fill=\"black\" stroke=\"black\" points=\"974.78,-49 984.78,-45.5 974.78,-42 974.78,-49\"/>\n",
       "</g>\n",
       "<!-- 2936492049840 -->\n",
       "<g id=\"node12\" class=\"node\">\n",
       "<title>2936492049840</title>\n",
       "<polygon fill=\"none\" stroke=\"black\" points=\"743,-0.5 743,-36.5 857,-36.5 857,-0.5 743,-0.5\"/>\n",
       "<text text-anchor=\"middle\" x=\"759.5\" y=\"-14.8\" font-family=\"Times New Roman,serif\" font-size=\"14.00\">w3</text>\n",
       "<polyline fill=\"none\" stroke=\"black\" points=\"776,-0.5 776,-36.5\"/>\n",
       "<text text-anchor=\"middle\" x=\"816.5\" y=\"-14.8\" font-family=\"Times New Roman,serif\" font-size=\"14.00\">data 2.0000</text>\n",
       "</g>\n",
       "<!-- 2936492049840&#45;&gt;2936492050800* -->\n",
       "<g id=\"edge7\" class=\"edge\">\n",
       "<title>2936492049840&#45;&gt;2936492050800*</title>\n",
       "<path fill=\"none\" stroke=\"black\" d=\"M857.14,-31.13C867.06,-33.36 877.13,-35.63 886.25,-37.68\"/>\n",
       "<polygon fill=\"black\" stroke=\"black\" points=\"885.56,-41.11 896.08,-39.89 887.09,-34.28 885.56,-41.11\"/>\n",
       "</g>\n",
       "<!-- 2936492051424 -->\n",
       "<g id=\"node13\" class=\"node\">\n",
       "<title>2936492051424</title>\n",
       "<polygon fill=\"none\" stroke=\"black\" points=\"247,-111.5 247,-147.5 371,-147.5 371,-111.5 247,-111.5\"/>\n",
       "<text text-anchor=\"middle\" x=\"261.5\" y=\"-125.8\" font-family=\"Times New Roman,serif\" font-size=\"14.00\">s2</text>\n",
       "<polyline fill=\"none\" stroke=\"black\" points=\"276,-111.5 276,-147.5\"/>\n",
       "<text text-anchor=\"middle\" x=\"323.5\" y=\"-125.8\" font-family=\"Times New Roman,serif\" font-size=\"14.00\">data 120.0000</text>\n",
       "</g>\n",
       "<!-- 2936492051424&#45;&gt;2936492050416+ -->\n",
       "<g id=\"edge13\" class=\"edge\">\n",
       "<title>2936492051424&#45;&gt;2936492050416+</title>\n",
       "<path fill=\"none\" stroke=\"black\" d=\"M371.14,-115.58C380.48,-113.45 389.84,-111.33 398.34,-109.39\"/>\n",
       "<polygon fill=\"black\" stroke=\"black\" points=\"399.26,-112.77 408.24,-107.14 397.71,-105.94 399.26,-112.77\"/>\n",
       "</g>\n",
       "<!-- 2936492051424*&#45;&gt;2936492051424 -->\n",
       "<g id=\"edge4\" class=\"edge\">\n",
       "<title>2936492051424*&#45;&gt;2936492051424</title>\n",
       "<path fill=\"none\" stroke=\"black\" d=\"M211.09,-129.5C218.72,-129.5 227.46,-129.5 236.49,-129.5\"/>\n",
       "<polygon fill=\"black\" stroke=\"black\" points=\"236.78,-133 246.78,-129.5 236.78,-126 236.78,-133\"/>\n",
       "</g>\n",
       "<!-- 2936492050416 -->\n",
       "<g id=\"node15\" class=\"node\">\n",
       "<title>2936492050416</title>\n",
       "<polygon fill=\"none\" stroke=\"black\" points=\"497,-83.5 497,-119.5 615,-119.5 615,-83.5 497,-83.5\"/>\n",
       "<text text-anchor=\"middle\" x=\"508.5\" y=\"-97.8\" font-family=\"Times New Roman,serif\" font-size=\"14.00\">n</text>\n",
       "<polyline fill=\"none\" stroke=\"black\" points=\"520,-83.5 520,-119.5\"/>\n",
       "<text text-anchor=\"middle\" x=\"567.5\" y=\"-97.8\" font-family=\"Times New Roman,serif\" font-size=\"14.00\">data 720.0000</text>\n",
       "</g>\n",
       "<!-- 2936492050416&#45;&gt;2936492052096+ -->\n",
       "<g id=\"edge10\" class=\"edge\">\n",
       "<title>2936492050416&#45;&gt;2936492052096+</title>\n",
       "<path fill=\"none\" stroke=\"black\" d=\"M615.24,-87.91C624.5,-85.75 633.81,-83.58 642.29,-81.6\"/>\n",
       "<polygon fill=\"black\" stroke=\"black\" points=\"643.23,-84.97 652.17,-79.29 641.64,-78.16 643.23,-84.97\"/>\n",
       "</g>\n",
       "<!-- 2936492050416+&#45;&gt;2936492050416 -->\n",
       "<g id=\"edge5\" class=\"edge\">\n",
       "<title>2936492050416+&#45;&gt;2936492050416</title>\n",
       "<path fill=\"none\" stroke=\"black\" d=\"M461.04,-101.5C468.83,-101.5 477.77,-101.5 486.96,-101.5\"/>\n",
       "<polygon fill=\"black\" stroke=\"black\" points=\"487,-105 497,-101.5 487,-98 487,-105\"/>\n",
       "</g>\n",
       "</g>\n",
       "</svg>\n"
      ],
      "text/plain": [
       "<graphviz.graphs.Digraph at 0x2abb490c3a0>"
      ]
     },
     "execution_count": 18,
     "metadata": {},
     "output_type": "execute_result"
    }
   ],
   "source": [
    "x1 = Valor(60, rotulo='x1')\n",
    "x2 = Valor(24, rotulo='x2')\n",
    "w1 = Valor(10, rotulo='w1')\n",
    "w2 = Valor(5, rotulo='w2')\n",
    "w3 = Valor(2, rotulo='w3')\n",
    "b = Valor(7, rotulo='b')\n",
    "\n",
    "s1 = x1 * w1\n",
    "s1.rotulo = 's1'\n",
    "\n",
    "s2 = x2 * w2\n",
    "s2.rotulo = 's2'\n",
    "\n",
    "n = s1 + s2\n",
    "n.rotulo = 'n'\n",
    "\n",
    "k = n + b\n",
    "k.rotulo = 'k'\n",
    "\n",
    "y = k * w3\n",
    "y.rotulo = 'y'\n",
    "\n",
    "\n",
    "plota_grafo(y)"
   ]
  },
  {
   "cell_type": "markdown",
   "metadata": {},
   "source": [
    "## Conclusão\n",
    "\n",
    "<p style=\"text-align: justify\">  Os grafos são representações matemáticas de um conjutno de objeto e suas relações, sendo constituidos por uma série de vértices e suas arestas, podemos pensar nos vértices como \"locais\" - o conjunto de vértices é o conjunto de todos os locais possíveis; por sua vez, as arestas podem ser representadas como os caminhos que devemos percorrer entre esses locais, é um conceito amplamente utilizado para a resolução de cadeias de problema nas mais diversas áreas, os grafos podem ser representados em situações onde estamos nos locomovendo em cidades - uma ótima representação para análise da resolução do problema do caixeiro viajante; redes computacionais e até mesmo para resolução de problemas de circuitos elétricos, como a ponte de Wheatstone. Além disso, é um conceito utilizado para redes neurais ao se referir o backpropagation de uma rede neural - realização está que demandou uma grande quantidade de tempo. o que demorou muito tempo. É notável a grande aplicação e utilização dos grafos e também, se reconhece que sua resolução pode ficar mais dificil de se representar conforme há o aumento da quantidade de grafos - como experenciado pelos discentes nas aulas de Backpropagation, logo, o questionamento que se perdurou nesse exercício foi: \"Existe algum método que realize grafos automaticamente?\" </p>\n",
    "<p style=\"text-align: justify\">  A resposta para o questionamento é afirmativo e ocorre por meio da instalação da Graphviz e a utilização de conceitos como operador mãe e operadores progenitores. Ressalta-se que para a realização do nosso primeiro plot utilizamos de um conceito abordado no experimento R.02, sendo este conceito: as classes - um método de organização de dados e suas funcionalidades. A fim de se utilizar das classes para operações bidirecionais dos grafos temos que definir seus comportamentos, uma das primeiras definições ocorre por meio dos dunders  __add__ (somatória) e  __mul__ (multiplicação) que nos permitem definir o comportamento da nossa classe quando o objeto for chamado como função. </p>\n",
    "<p style=\"text-align: justify\">  Classificado estes operadores, deve-se incluir como mais duas informações da classe: operadores progenitores, conceito vínculado a ideia de que um certo vértice pode ter mais de um vértice que o atribui informações e o operador mãe que é o operador utilizado para gerar o vértice. Essas determinações de comportamento e classificação, nos permitem criar a nossa classe que permite o desenvolvimento do grafo por meio da função \"plota_grafico\". Esta função foi criada originalmente por Andrej Karpathy e unificada ao conceito de classes\n",
    "  </p>\n"
   ]
  },
  {
   "cell_type": "markdown",
   "metadata": {},
   "source": [
    "## Playground\n",
    "\n"
   ]
  },
  {
   "cell_type": "code",
   "execution_count": 20,
   "metadata": {},
   "outputs": [],
   "source": [
    "try:\n",
    "    import graphviz\n",
    "except ModuleNotFoundError:\n",
    "    import sys\n",
    "    !{sys.executable} -m pip install graphviz"
   ]
  },
  {
   "cell_type": "markdown",
   "metadata": {},
   "source": [
    "Muito obrigada pela aula, Dani :)"
   ]
  }
 ],
 "metadata": {
  "kernelspec": {
   "display_name": "ilumpy",
   "language": "python",
   "name": "ilumpy"
  },
  "language_info": {
   "codemirror_mode": {
    "name": "ipython",
    "version": 3
   },
   "file_extension": ".py",
   "mimetype": "text/x-python",
   "name": "python",
   "nbconvert_exporter": "python",
   "pygments_lexer": "ipython3",
   "version": "3.9.7"
  },
  "org": null
 },
 "nbformat": 4,
 "nbformat_minor": 4
}
